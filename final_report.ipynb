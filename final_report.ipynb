{
 "cells": [
  {
   "cell_type": "markdown",
   "id": "58adc7fc-a001-4cc5-b852-71ec9b6fe01b",
   "metadata": {},
   "source": [
    "# Aircraft Wildlife Strike Damage Prediction Project"
   ]
  },
  {
   "cell_type": "markdown",
   "id": "3bde2140-d0ee-4ac2-8326-0a7d51876925",
   "metadata": {},
   "source": [
    "## Goal:\n",
    "* Discover drivers of damage level in aircraft wildlife strikes, aka bird strikes\n",
    "* Use those drivers to develop a machine learning model to classify damage level as None/Minor/Substantial/Destroyed (N/M/S/D), as captured in the Federal Aviation Administration (FAA) Wildlife Strike Database\n",
    "* Damage level definition\n",
    "    * N (None): No damage was reported\n",
    "    * M (Minor): Aircraft can be rendered airworthy by simple repairs or replacements and an extensive inspection is not necessary\n",
    "    * M? (Undetermined): Aircraft was damaged but details were lacking\n",
    "    * S (Substantial): Aircraft incurs damage or structural failure which adversely affects the structure strength, performance, or flight characteristics of the aircraft and which normally would require major repair or replacement of the affected component. Bent fairings or cowlings; small dents or puncture holes in the skin;  damage to wing tips, antennae, tires or brakes; and engine blade damage not requiring blade replacement are specifically excluded.\n",
    "    * D (Destroyed): Damage sustained makes it inadvisable to restore the aircraft to an airworthy condition\n",
    "* This information could be used to assist aircrew, airport managers, and the FAA in mitigating the risk of damaging wildlife strikes"
   ]
  },
  {
   "cell_type": "markdown",
   "id": "dd199d9a-2435-47fd-bf9e-bf8b4591fb00",
   "metadata": {},
   "source": [
    "# Imports"
   ]
  },
  {
   "cell_type": "code",
   "execution_count": 1,
   "id": "9e5addb5-7672-4766-8666-e4a7a440a482",
   "metadata": {},
   "outputs": [],
   "source": [
    "import numpy as np\n",
    "import pandas as pd\n",
    "\n",
    "import matplotlib.pyplot as plt\n",
    "import seaborn as sns\n",
    "\n",
    "from sklearn.linear_model import LogisticRegression\n",
    "from sklearn.neighbors import KNeighborsClassifier\n",
    "from sklearn.ensemble import RandomForestClassifier \n",
    "from sklearn.tree import DecisionTreeClassifier\n",
    "\n",
    "from scipy import stats\n",
    "import math\n",
    "\n",
    "import warnings\n",
    "warnings.filterwarnings('ignore')\n",
    "\n",
    "import wrangle as w\n",
    "import explore as e\n",
    "import model as m\n",
    "\n",
    "np.random.seed(42)"
   ]
  },
  {
   "cell_type": "markdown",
   "id": "aae87c0f-cef8-4380-97ec-0b20930d5395",
   "metadata": {},
   "source": [
    "# Acquire\n",
    "- Data acquired from [FAA](https://wildlife.faa.gov/search). (Open in Access and save as 'strike_reports.csv')\n",
    "- Alternately, one can download this csv file, current as of May 2023, [here](https://drive.google.com/file/d/13Lee9Ux_FXOhzhHB2WfhPHQRYXUXOyYF/view?usp=sharing)\n",
    "- It contained 297,947 rows and 100 columns before cleaning\n",
    "- Each row represents one event where an aircraft struck one or more birds\n",
    "- Each column represents a variable about a bird strike"
   ]
  },
  {
   "cell_type": "markdown",
   "id": "70cbae68-514e-4709-a682-fbb8eddf254c",
   "metadata": {},
   "source": [
    "# Prepare\n",
    "- changed all column names to lower_case, changed 'size' to 'size_of_species' (a non-reserved word)\n",
    "- changed 'incident_date' to 'date', converted it to datetime, and set as index for future time series analysis\n",
    "- kept 20 of 100 columns\n",
    "- removed all rows with nulls for mvp\n",
    "- damage_level had a few values of 'M?' for undetermined. I treated these as nulls and removed them.\n",
    "- checked that column data types were appropriate\n",
    "- no outliers removed\n",
    "- changed precipitation to four True/False columns because the values for this column were combinations of these four things: precip_none, precip_rain, precip_snow, precip_fog\n",
    "- Encoded categorical variables\n",
    "- Split data into train, validate, and test (60/20/20), stratifying on damage_level\n",
    "- Scaled continuous variables\n",
    "- after preparing the dataframe, it contained 61,955 rows and 23 columns"
   ]
  },
  {
   "cell_type": "markdown",
   "id": "d639ef5a-93ff-49ea-bee9-d91f8c2c7ee3",
   "metadata": {},
   "source": [
    "# Data Dictionary\n",
    "\n",
    "| Feature | Definition |\n",
    "|:--------|:-----------|\n",
    "|damage_level| Level of damage resulting from strike; None / Minor / Substantial / Destroyed|\n",
    "|time_of_day| Day/Night/Dusk/Dawn|\n",
    "|airport_id| 4-letter International Civil Aviation Organization (ICAO) identifier for airport, e.g. KSAT|\n",
    "|airport| Name of airport, e.g. SAN ANTONIO INTL|\n",
    "|runway| Runway in use at airport, e.g. 12R|\n",
    "|state| state, e.g. TX|\n",
    "|opid| operator code (PVT - Private, BUS - Business, SWA - Southwest, etc.)|\n",
    "|operator| operator name corresponding to opid, e.g. SOUTHWEST AIRLINES|\n",
    "|aircraft| type of aircraft, e.g. B-737-800|\n",
    "|ac_class| class of aicraft: A- Airplane / B- Helicopter / C- Glider / J- Ultralight / Y- Other / Z- Unknown|\n",
    "|ac_mass| mass category of aircraft: 1- 0-2250 kg / 2- 2251-5700 kg / 3- 5701-27000 kg / 4- 27001-272000 kg / 5- >272000 kg|\n",
    "|type_eng| type of engine: A- piston / B- turbojet / C- turboprop / D- turbofan / E- none (glider) / F- turboshaft (helicopter) / Y- other|\n",
    "|num_engs| number of engines|\n",
    "|phase_of_flight| phase of flight in which the strike occurred, e.g. Takeoff|\n",
    "|speed| speed in nautical miles per hour (knots)|\n",
    "|species_id| short form representing species of wildlife|\n",
    "|species| long form for species of wildlife|\n",
    "|size_of_species| size of species struck, Small / Medium / Large / Unknown|\n",
    "|num_struck| number of wildlife struck|\n",
    "|precip_none| 1 if None, else 0|\n",
    "|precip_rain| 1 if Rain, else 0|\n",
    "|precip_snow| 1 if Snow, else 0|\n",
    "|precip_fog| 1 if Fog, else 0|"
   ]
  },
  {
   "cell_type": "code",
   "execution_count": 2,
   "id": "4dbda891-a4bc-42a8-93f4-004c02e57547",
   "metadata": {},
   "outputs": [
    {
     "name": "stdout",
     "output_type": "stream",
     "text": [
      "cached csv file found and read\n",
      "Prepared df: (61955, 23)\n",
      "\n",
      "Train: (37173, 23)\n",
      "Validate: (12391, 23)\n",
      "Test: (12391, 23)\n"
     ]
    }
   ],
   "source": [
    "## acquiring and preparing data for exploration\n",
    "df = w.wrangle_wildlife_strike_df_mvp()\n",
    "\n",
    "## splitting data in to train, validate, and test\n",
    "train, validate, test = w.split_function(df, 'damage_level')"
   ]
  },
  {
   "cell_type": "markdown",
   "id": "22d48fbc-168e-4fb4-b6f0-3c48309f4cbe",
   "metadata": {},
   "source": [
    "# A brief look at the data"
   ]
  },
  {
   "cell_type": "code",
   "execution_count": 3,
   "id": "6fe6a1b7-7ca0-4b60-96ab-33605f206802",
   "metadata": {},
   "outputs": [
    {
     "data": {
      "text/html": [
       "<div>\n",
       "<style scoped>\n",
       "    .dataframe tbody tr th:only-of-type {\n",
       "        vertical-align: middle;\n",
       "    }\n",
       "\n",
       "    .dataframe tbody tr th {\n",
       "        vertical-align: top;\n",
       "    }\n",
       "\n",
       "    .dataframe thead th {\n",
       "        text-align: right;\n",
       "    }\n",
       "</style>\n",
       "<table border=\"1\" class=\"dataframe\">\n",
       "  <thead>\n",
       "    <tr style=\"text-align: right;\">\n",
       "      <th></th>\n",
       "      <th>time_of_day</th>\n",
       "      <th>airport_id</th>\n",
       "      <th>airport</th>\n",
       "      <th>runway</th>\n",
       "      <th>state</th>\n",
       "      <th>opid</th>\n",
       "      <th>operator</th>\n",
       "      <th>aircraft</th>\n",
       "      <th>ac_class</th>\n",
       "      <th>ac_mass</th>\n",
       "      <th>...</th>\n",
       "      <th>speed</th>\n",
       "      <th>damage_level</th>\n",
       "      <th>species_id</th>\n",
       "      <th>species</th>\n",
       "      <th>size_of_species</th>\n",
       "      <th>num_struck</th>\n",
       "      <th>precip_none</th>\n",
       "      <th>precip_rain</th>\n",
       "      <th>precip_fog</th>\n",
       "      <th>precip_snow</th>\n",
       "    </tr>\n",
       "    <tr>\n",
       "      <th>date</th>\n",
       "      <th></th>\n",
       "      <th></th>\n",
       "      <th></th>\n",
       "      <th></th>\n",
       "      <th></th>\n",
       "      <th></th>\n",
       "      <th></th>\n",
       "      <th></th>\n",
       "      <th></th>\n",
       "      <th></th>\n",
       "      <th></th>\n",
       "      <th></th>\n",
       "      <th></th>\n",
       "      <th></th>\n",
       "      <th></th>\n",
       "      <th></th>\n",
       "      <th></th>\n",
       "      <th></th>\n",
       "      <th></th>\n",
       "      <th></th>\n",
       "      <th></th>\n",
       "    </tr>\n",
       "  </thead>\n",
       "  <tbody>\n",
       "    <tr>\n",
       "      <th>2018-03-29</th>\n",
       "      <td>Dusk</td>\n",
       "      <td>KDWH</td>\n",
       "      <td>DAVID WAYNE HOOKS MEMORIAL ARPT</td>\n",
       "      <td>17L</td>\n",
       "      <td>TX</td>\n",
       "      <td>BUS</td>\n",
       "      <td>BUSINESS</td>\n",
       "      <td>PA-46 MALIBU</td>\n",
       "      <td>A</td>\n",
       "      <td>1</td>\n",
       "      <td>...</td>\n",
       "      <td>90.0</td>\n",
       "      <td>N</td>\n",
       "      <td>ZT101</td>\n",
       "      <td>Red-winged blackbird</td>\n",
       "      <td>Small</td>\n",
       "      <td>1</td>\n",
       "      <td>1</td>\n",
       "      <td>0</td>\n",
       "      <td>0</td>\n",
       "      <td>0</td>\n",
       "    </tr>\n",
       "    <tr>\n",
       "      <th>1997-04-13</th>\n",
       "      <td>Day</td>\n",
       "      <td>KISP</td>\n",
       "      <td>LONG ISLAND MAC ARTHUR</td>\n",
       "      <td>24</td>\n",
       "      <td>NY</td>\n",
       "      <td>GAA</td>\n",
       "      <td>BUSINESS EXPRESS</td>\n",
       "      <td>SAAB-340</td>\n",
       "      <td>A</td>\n",
       "      <td>3</td>\n",
       "      <td>...</td>\n",
       "      <td>60.0</td>\n",
       "      <td>N</td>\n",
       "      <td>O2205</td>\n",
       "      <td>Mourning dove</td>\n",
       "      <td>Small</td>\n",
       "      <td>1</td>\n",
       "      <td>1</td>\n",
       "      <td>0</td>\n",
       "      <td>0</td>\n",
       "      <td>0</td>\n",
       "    </tr>\n",
       "    <tr>\n",
       "      <th>2010-10-31</th>\n",
       "      <td>Night</td>\n",
       "      <td>KEWR</td>\n",
       "      <td>NEWARK LIBERTY INTL ARPT</td>\n",
       "      <td>4R</td>\n",
       "      <td>NJ</td>\n",
       "      <td>COA</td>\n",
       "      <td>CONTINENTAL AIRLINES</td>\n",
       "      <td>B-737-800</td>\n",
       "      <td>A</td>\n",
       "      <td>4</td>\n",
       "      <td>...</td>\n",
       "      <td>155.0</td>\n",
       "      <td>N</td>\n",
       "      <td>UNKBS</td>\n",
       "      <td>Unknown bird - small</td>\n",
       "      <td>Small</td>\n",
       "      <td>1</td>\n",
       "      <td>1</td>\n",
       "      <td>0</td>\n",
       "      <td>0</td>\n",
       "      <td>0</td>\n",
       "    </tr>\n",
       "    <tr>\n",
       "      <th>2004-07-24</th>\n",
       "      <td>Day</td>\n",
       "      <td>KLAW</td>\n",
       "      <td>LAWTON-FORT SILL REGIONAL ARPT</td>\n",
       "      <td>35</td>\n",
       "      <td>OK</td>\n",
       "      <td>EGF</td>\n",
       "      <td>AMERICAN EAGLE AIRLINES</td>\n",
       "      <td>SAAB-340</td>\n",
       "      <td>A</td>\n",
       "      <td>3</td>\n",
       "      <td>...</td>\n",
       "      <td>130.0</td>\n",
       "      <td>N</td>\n",
       "      <td>UNKBS</td>\n",
       "      <td>Unknown bird - small</td>\n",
       "      <td>Small</td>\n",
       "      <td>1</td>\n",
       "      <td>1</td>\n",
       "      <td>0</td>\n",
       "      <td>0</td>\n",
       "      <td>0</td>\n",
       "    </tr>\n",
       "    <tr>\n",
       "      <th>2001-10-14</th>\n",
       "      <td>Night</td>\n",
       "      <td>PHLI</td>\n",
       "      <td>LIHUE ARPT</td>\n",
       "      <td>35</td>\n",
       "      <td>HI</td>\n",
       "      <td>HAL</td>\n",
       "      <td>HAWAIIAN AIR</td>\n",
       "      <td>B-717-200</td>\n",
       "      <td>A</td>\n",
       "      <td>4</td>\n",
       "      <td>...</td>\n",
       "      <td>80.0</td>\n",
       "      <td>N</td>\n",
       "      <td>N5122</td>\n",
       "      <td>Pacific golden-plover</td>\n",
       "      <td>Small</td>\n",
       "      <td>2-10</td>\n",
       "      <td>1</td>\n",
       "      <td>0</td>\n",
       "      <td>0</td>\n",
       "      <td>0</td>\n",
       "    </tr>\n",
       "  </tbody>\n",
       "</table>\n",
       "<p>5 rows × 23 columns</p>\n",
       "</div>"
      ],
      "text/plain": [
       "           time_of_day airport_id                          airport runway  \\\n",
       "date                                                                        \n",
       "2018-03-29        Dusk       KDWH  DAVID WAYNE HOOKS MEMORIAL ARPT    17L   \n",
       "1997-04-13         Day       KISP           LONG ISLAND MAC ARTHUR     24   \n",
       "2010-10-31       Night       KEWR         NEWARK LIBERTY INTL ARPT     4R   \n",
       "2004-07-24         Day       KLAW   LAWTON-FORT SILL REGIONAL ARPT     35   \n",
       "2001-10-14       Night       PHLI                       LIHUE ARPT     35   \n",
       "\n",
       "           state opid                 operator      aircraft ac_class  \\\n",
       "date                                                                    \n",
       "2018-03-29    TX  BUS                 BUSINESS  PA-46 MALIBU      A     \n",
       "1997-04-13    NY  GAA         BUSINESS EXPRESS      SAAB-340      A     \n",
       "2010-10-31    NJ  COA     CONTINENTAL AIRLINES     B-737-800      A     \n",
       "2004-07-24    OK  EGF  AMERICAN EAGLE AIRLINES      SAAB-340      A     \n",
       "2001-10-14    HI  HAL             HAWAIIAN AIR     B-717-200      A     \n",
       "\n",
       "            ac_mass  ...  speed  damage_level species_id  \\\n",
       "date                 ...                                   \n",
       "2018-03-29        1  ...   90.0             N      ZT101   \n",
       "1997-04-13        3  ...   60.0             N      O2205   \n",
       "2010-10-31        4  ...  155.0             N      UNKBS   \n",
       "2004-07-24        3  ...  130.0             N      UNKBS   \n",
       "2001-10-14        4  ...   80.0             N      N5122   \n",
       "\n",
       "                          species size_of_species num_struck precip_none  \\\n",
       "date                                                                       \n",
       "2018-03-29   Red-winged blackbird           Small          1           1   \n",
       "1997-04-13          Mourning dove           Small          1           1   \n",
       "2010-10-31   Unknown bird - small           Small          1           1   \n",
       "2004-07-24   Unknown bird - small           Small          1           1   \n",
       "2001-10-14  Pacific golden-plover           Small       2-10           1   \n",
       "\n",
       "           precip_rain precip_fog  precip_snow  \n",
       "date                                            \n",
       "2018-03-29           0          0            0  \n",
       "1997-04-13           0          0            0  \n",
       "2010-10-31           0          0            0  \n",
       "2004-07-24           0          0            0  \n",
       "2001-10-14           0          0            0  \n",
       "\n",
       "[5 rows x 23 columns]"
      ]
     },
     "execution_count": 3,
     "metadata": {},
     "output_type": "execute_result"
    }
   ],
   "source": [
    "train.head()"
   ]
  },
  {
   "cell_type": "markdown",
   "id": "5423f5c5-8e6a-453f-91c9-4e94665a470c",
   "metadata": {},
   "source": [
    "## A summary of the data"
   ]
  },
  {
   "cell_type": "code",
   "execution_count": 4,
   "id": "e70fe2b1-c77a-43ae-86ac-4a2632dc3225",
   "metadata": {},
   "outputs": [
    {
     "name": "stdout",
     "output_type": "stream",
     "text": [
      "<class 'pandas.core.frame.DataFrame'>\n",
      "DatetimeIndex: 37173 entries, 2018-03-29 to 1998-08-27\n",
      "Data columns (total 23 columns):\n",
      " #   Column           Non-Null Count  Dtype  \n",
      "---  ------           --------------  -----  \n",
      " 0   time_of_day      37173 non-null  object \n",
      " 1   airport_id       37173 non-null  object \n",
      " 2   airport          37173 non-null  object \n",
      " 3   runway           37173 non-null  object \n",
      " 4   state            37173 non-null  object \n",
      " 5   opid             37173 non-null  object \n",
      " 6   operator         37173 non-null  object \n",
      " 7   aircraft         37173 non-null  object \n",
      " 8   ac_class         37173 non-null  object \n",
      " 9   ac_mass          37173 non-null  int64  \n",
      " 10  type_eng         37173 non-null  object \n",
      " 11  num_engs         37173 non-null  int64  \n",
      " 12  phase_of_flight  37173 non-null  object \n",
      " 13  speed            37173 non-null  float64\n",
      " 14  damage_level     37173 non-null  object \n",
      " 15  species_id       37173 non-null  object \n",
      " 16  species          37173 non-null  object \n",
      " 17  size_of_species  37173 non-null  object \n",
      " 18  num_struck       37173 non-null  object \n",
      " 19  precip_none      37173 non-null  int64  \n",
      " 20  precip_rain      37173 non-null  int64  \n",
      " 21  precip_fog       37173 non-null  int64  \n",
      " 22  precip_snow      37173 non-null  int64  \n",
      "dtypes: float64(1), int64(6), object(16)\n",
      "memory usage: 6.8+ MB\n"
     ]
    }
   ],
   "source": [
    "train.info()"
   ]
  },
  {
   "cell_type": "code",
   "execution_count": 5,
   "id": "b24999eb-a486-4a38-8264-597f3056570b",
   "metadata": {},
   "outputs": [
    {
     "data": {
      "text/html": [
       "<div>\n",
       "<style scoped>\n",
       "    .dataframe tbody tr th:only-of-type {\n",
       "        vertical-align: middle;\n",
       "    }\n",
       "\n",
       "    .dataframe tbody tr th {\n",
       "        vertical-align: top;\n",
       "    }\n",
       "\n",
       "    .dataframe thead th {\n",
       "        text-align: right;\n",
       "    }\n",
       "</style>\n",
       "<table border=\"1\" class=\"dataframe\">\n",
       "  <thead>\n",
       "    <tr style=\"text-align: right;\">\n",
       "      <th></th>\n",
       "      <th>ac_mass</th>\n",
       "      <th>num_engs</th>\n",
       "      <th>speed</th>\n",
       "      <th>precip_none</th>\n",
       "      <th>precip_rain</th>\n",
       "      <th>precip_fog</th>\n",
       "      <th>precip_snow</th>\n",
       "    </tr>\n",
       "  </thead>\n",
       "  <tbody>\n",
       "    <tr>\n",
       "      <th>count</th>\n",
       "      <td>37173.000000</td>\n",
       "      <td>37173.000000</td>\n",
       "      <td>37173.000000</td>\n",
       "      <td>37173.000000</td>\n",
       "      <td>37173.000000</td>\n",
       "      <td>37173.000000</td>\n",
       "      <td>37173.000000</td>\n",
       "    </tr>\n",
       "    <tr>\n",
       "      <th>mean</th>\n",
       "      <td>3.514164</td>\n",
       "      <td>2.016168</td>\n",
       "      <td>139.896188</td>\n",
       "      <td>0.919834</td>\n",
       "      <td>0.056116</td>\n",
       "      <td>0.023565</td>\n",
       "      <td>0.003954</td>\n",
       "    </tr>\n",
       "    <tr>\n",
       "      <th>std</th>\n",
       "      <td>0.886060</td>\n",
       "      <td>0.412703</td>\n",
       "      <td>43.087486</td>\n",
       "      <td>0.271553</td>\n",
       "      <td>0.230149</td>\n",
       "      <td>0.151693</td>\n",
       "      <td>0.062761</td>\n",
       "    </tr>\n",
       "    <tr>\n",
       "      <th>min</th>\n",
       "      <td>1.000000</td>\n",
       "      <td>1.000000</td>\n",
       "      <td>0.000000</td>\n",
       "      <td>0.000000</td>\n",
       "      <td>0.000000</td>\n",
       "      <td>0.000000</td>\n",
       "      <td>0.000000</td>\n",
       "    </tr>\n",
       "    <tr>\n",
       "      <th>25%</th>\n",
       "      <td>3.000000</td>\n",
       "      <td>2.000000</td>\n",
       "      <td>120.000000</td>\n",
       "      <td>1.000000</td>\n",
       "      <td>0.000000</td>\n",
       "      <td>0.000000</td>\n",
       "      <td>0.000000</td>\n",
       "    </tr>\n",
       "    <tr>\n",
       "      <th>50%</th>\n",
       "      <td>4.000000</td>\n",
       "      <td>2.000000</td>\n",
       "      <td>138.000000</td>\n",
       "      <td>1.000000</td>\n",
       "      <td>0.000000</td>\n",
       "      <td>0.000000</td>\n",
       "      <td>0.000000</td>\n",
       "    </tr>\n",
       "    <tr>\n",
       "      <th>75%</th>\n",
       "      <td>4.000000</td>\n",
       "      <td>2.000000</td>\n",
       "      <td>155.000000</td>\n",
       "      <td>1.000000</td>\n",
       "      <td>0.000000</td>\n",
       "      <td>0.000000</td>\n",
       "      <td>0.000000</td>\n",
       "    </tr>\n",
       "    <tr>\n",
       "      <th>max</th>\n",
       "      <td>5.000000</td>\n",
       "      <td>4.000000</td>\n",
       "      <td>650.000000</td>\n",
       "      <td>1.000000</td>\n",
       "      <td>1.000000</td>\n",
       "      <td>1.000000</td>\n",
       "      <td>1.000000</td>\n",
       "    </tr>\n",
       "  </tbody>\n",
       "</table>\n",
       "</div>"
      ],
      "text/plain": [
       "            ac_mass      num_engs         speed   precip_none   precip_rain  \\\n",
       "count  37173.000000  37173.000000  37173.000000  37173.000000  37173.000000   \n",
       "mean       3.514164      2.016168    139.896188      0.919834      0.056116   \n",
       "std        0.886060      0.412703     43.087486      0.271553      0.230149   \n",
       "min        1.000000      1.000000      0.000000      0.000000      0.000000   \n",
       "25%        3.000000      2.000000    120.000000      1.000000      0.000000   \n",
       "50%        4.000000      2.000000    138.000000      1.000000      0.000000   \n",
       "75%        4.000000      2.000000    155.000000      1.000000      0.000000   \n",
       "max        5.000000      4.000000    650.000000      1.000000      1.000000   \n",
       "\n",
       "         precip_fog   precip_snow  \n",
       "count  37173.000000  37173.000000  \n",
       "mean       0.023565      0.003954  \n",
       "std        0.151693      0.062761  \n",
       "min        0.000000      0.000000  \n",
       "25%        0.000000      0.000000  \n",
       "50%        0.000000      0.000000  \n",
       "75%        0.000000      0.000000  \n",
       "max        1.000000      1.000000  "
      ]
     },
     "execution_count": 5,
     "metadata": {},
     "output_type": "execute_result"
    }
   ],
   "source": [
    "train.describe()"
   ]
  },
  {
   "cell_type": "markdown",
   "id": "f098fa1c-9ded-4a78-9ab9-ecfa70543e59",
   "metadata": {},
   "source": [
    "# Explore"
   ]
  },
  {
   "cell_type": "markdown",
   "id": "a5c5a01d-31a8-40cb-aa0b-b9f14a750e31",
   "metadata": {},
   "source": [
    "## What is the distribution of the target?"
   ]
  },
  {
   "cell_type": "code",
   "execution_count": 6,
   "id": "7f6a71d2-f7f5-43ed-bc64-c6f034c25207",
   "metadata": {},
   "outputs": [
    {
     "data": {
      "image/png": "[encoded data removed]",
      "text/plain": [
       "<Figure size 640x480 with 1 Axes>"
      ]
     },
     "metadata": {},
     "output_type": "display_data"
    }
   ],
   "source": [
    "# visualize the distribution of damage levels (univariate visualization so looking at entire df)\n",
    "e.get_target_dist(df, 'damage_level')"
   ]
  },
  {
   "cell_type": "code",
   "execution_count": 7,
   "id": "ba4d973a-037f-445a-bfd2-f2cb2eb25eed",
   "metadata": {},
   "outputs": [
    {
     "data": {
      "image/png": "[encoded data removed]",
      "text/plain": [
       "<Figure size 640x480 with 1 Axes>"
      ]
     },
     "metadata": {},
     "output_type": "display_data"
    }
   ],
   "source": [
    "# most birdstrikes result in negligible damage, so plotting the distribution of just M/S/D to see it better\n",
    "e.get_target_dist_MSD(df[df.damage_level != 'N'], 'damage_level')"
   ]
  },
  {
   "cell_type": "markdown",
   "id": "589fd1e5-37fb-45cc-8fc3-1cc625d472e6",
   "metadata": {},
   "source": [
    "## Question 1. Is damage_level associated with size_of_species?"
   ]
  },
  {
   "cell_type": "markdown",
   "id": "ba9ae083-534a-4d79-8c3b-178ece10ff72",
   "metadata": {},
   "source": [
    "### Visualize"
   ]
  },
  {
   "cell_type": "code",
   "execution_count": 8,
   "id": "2ff49109-cae7-4730-a478-7b310c4973e3",
   "metadata": {},
   "outputs": [
    {
     "data": {
      "image/png": "[encoded data removed]",
      "text/plain": [
       "<Figure size 640x480 with 1 Axes>"
      ]
     },
     "metadata": {},
     "output_type": "display_data"
    },
    {
     "data": {
      "image/png": "[encoded data removed]",
      "text/plain": [
       "<Figure size 640x480 with 1 Axes>"
      ]
     },
     "metadata": {},
     "output_type": "display_data"
    }
   ],
   "source": [
    "# visualize distribution of damage levels vs size_of_species\n",
    "e.get_damage_catfeature_plot(train, 'size_of_species')"
   ]
  },
  {
   "cell_type": "markdown",
   "id": "d72b69d0-630d-4ac6-9df4-834ee0649004",
   "metadata": {},
   "source": [
    "### Analyze size_of_species vs damage_level with statistics\n",
    "- $H_0$ There is NO relationship between size_of_species and damage_level\n",
    "- $H_a$ There IS a relationship\n",
    "- $\\alpha$ = .05\n",
    "categorical vs categorical => chi^2 test"
   ]
  },
  {
   "cell_type": "code",
   "execution_count": 9,
   "id": "a225bc44-bce2-462c-a173-cf8b5f7bd736",
   "metadata": {},
   "outputs": [
    {
     "name": "stdout",
     "output_type": "stream",
     "text": [
      "---- Observed Crosstab ----\n"
     ]
    },
    {
     "data": {
      "text/html": [
       "<div>\n",
       "<style scoped>\n",
       "    .dataframe tbody tr th:only-of-type {\n",
       "        vertical-align: middle;\n",
       "    }\n",
       "\n",
       "    .dataframe tbody tr th {\n",
       "        vertical-align: top;\n",
       "    }\n",
       "\n",
       "    .dataframe thead th {\n",
       "        text-align: right;\n",
       "    }\n",
       "</style>\n",
       "<table border=\"1\" class=\"dataframe\">\n",
       "  <thead>\n",
       "    <tr style=\"text-align: right;\">\n",
       "      <th>size_of_species</th>\n",
       "      <th>Large</th>\n",
       "      <th>Medium</th>\n",
       "      <th>Small</th>\n",
       "    </tr>\n",
       "    <tr>\n",
       "      <th>damage_level</th>\n",
       "      <th></th>\n",
       "      <th></th>\n",
       "      <th></th>\n",
       "    </tr>\n",
       "  </thead>\n",
       "  <tbody>\n",
       "    <tr>\n",
       "      <th>D</th>\n",
       "      <td>3</td>\n",
       "      <td>3</td>\n",
       "      <td>1</td>\n",
       "    </tr>\n",
       "    <tr>\n",
       "      <th>M</th>\n",
       "      <td>626</td>\n",
       "      <td>886</td>\n",
       "      <td>426</td>\n",
       "    </tr>\n",
       "    <tr>\n",
       "      <th>N</th>\n",
       "      <td>1682</td>\n",
       "      <td>8499</td>\n",
       "      <td>24070</td>\n",
       "    </tr>\n",
       "    <tr>\n",
       "      <th>S</th>\n",
       "      <td>427</td>\n",
       "      <td>380</td>\n",
       "      <td>170</td>\n",
       "    </tr>\n",
       "  </tbody>\n",
       "</table>\n",
       "</div>"
      ],
      "text/plain": [
       "size_of_species  Large  Medium  Small\n",
       "damage_level                         \n",
       "D                    3       3      1\n",
       "M                  626     886    426\n",
       "N                 1682    8499  24070\n",
       "S                  427     380    170"
      ]
     },
     "metadata": {},
     "output_type": "display_data"
    },
    {
     "name": "stdout",
     "output_type": "stream",
     "text": [
      "---- Expected Crosstab from chi2 test ----\n"
     ]
    },
    {
     "data": {
      "text/html": [
       "<div>\n",
       "<style scoped>\n",
       "    .dataframe tbody tr th:only-of-type {\n",
       "        vertical-align: middle;\n",
       "    }\n",
       "\n",
       "    .dataframe tbody tr th {\n",
       "        vertical-align: top;\n",
       "    }\n",
       "\n",
       "    .dataframe thead th {\n",
       "        text-align: right;\n",
       "    }\n",
       "</style>\n",
       "<table border=\"1\" class=\"dataframe\">\n",
       "  <thead>\n",
       "    <tr style=\"text-align: right;\">\n",
       "      <th>size_of_species</th>\n",
       "      <th>Large</th>\n",
       "      <th>Medium</th>\n",
       "      <th>Small</th>\n",
       "    </tr>\n",
       "    <tr>\n",
       "      <th>damage_level</th>\n",
       "      <th></th>\n",
       "      <th></th>\n",
       "      <th></th>\n",
       "    </tr>\n",
       "  </thead>\n",
       "  <tbody>\n",
       "    <tr>\n",
       "      <th>D</th>\n",
       "      <td>1</td>\n",
       "      <td>2</td>\n",
       "      <td>5</td>\n",
       "    </tr>\n",
       "    <tr>\n",
       "      <th>M</th>\n",
       "      <td>143</td>\n",
       "      <td>509</td>\n",
       "      <td>1286</td>\n",
       "    </tr>\n",
       "    <tr>\n",
       "      <th>N</th>\n",
       "      <td>2523</td>\n",
       "      <td>9000</td>\n",
       "      <td>22728</td>\n",
       "    </tr>\n",
       "    <tr>\n",
       "      <th>S</th>\n",
       "      <td>72</td>\n",
       "      <td>257</td>\n",
       "      <td>648</td>\n",
       "    </tr>\n",
       "  </tbody>\n",
       "</table>\n",
       "</div>"
      ],
      "text/plain": [
       "size_of_species  Large  Medium  Small\n",
       "damage_level                         \n",
       "D                    1       2      5\n",
       "M                  143     509   1286\n",
       "N                 2523    9000  22728\n",
       "S                   72     257    648"
      ]
     },
     "metadata": {},
     "output_type": "display_data"
    },
    {
     "name": "stdout",
     "output_type": "stream",
     "text": [
      "chi2 = 5056.543424290582,  p = 0.0,  degf = 6\n"
     ]
    }
   ],
   "source": [
    "# get crosstabs of observed and expected damage levels related to size_of_species and chi2 test\n",
    "e.get_chi2(train, 'size_of_species')"
   ]
  },
  {
   "cell_type": "markdown",
   "id": "cc4b65c5-b672-4ee3-8352-6b56da5e02ff",
   "metadata": {},
   "source": [
    "### Summarize size_of_species vs damage_level\n",
    "\n",
    "- p is < .05, so we can reject the null hypothesis which suggests the $H_a$\n",
    "- In summary, there is an association between size_of_species and damage_level\n",
    "    * Large and medium sized birds = Higher Damage Levels\n",
    "    * Small birds result in less damage"
   ]
  },
  {
   "cell_type": "markdown",
   "id": "d6425149-3d5d-4b65-99a6-17d341dc05cc",
   "metadata": {},
   "source": [
    "## Question 2. Is damage_level associated with speed"
   ]
  },
  {
   "cell_type": "markdown",
   "id": "87bc5494-ae01-452d-8148-a2fd023c4d61",
   "metadata": {},
   "source": [
    "### Visualize"
   ]
  },
  {
   "cell_type": "code",
   "execution_count": 10,
   "id": "c751fbd1-c84e-46c2-b3b6-951f51d53488",
   "metadata": {},
   "outputs": [
    {
     "data": {
      "image/png": "[encoded data removed]",
      "text/plain": [
       "<Figure size 640x480 with 1 Axes>"
      ]
     },
     "metadata": {},
     "output_type": "display_data"
    }
   ],
   "source": [
    "# get boxplots of speed in the different damage categories N/M/S/D\n",
    "sns.boxplot(data=train, x='damage_level', y='speed')\n",
    "plt.title('Boxplots of speed in each damage category')\n",
    "plt.show()"
   ]
  },
  {
   "cell_type": "code",
   "execution_count": 11,
   "id": "ac47e4b5-2060-461a-834c-38889848a1e3",
   "metadata": {},
   "outputs": [
    {
     "data": {
      "image/png": "[encoded data removed]",
      "text/plain": [
       "<Figure size 640x480 with 1 Axes>"
      ]
     },
     "metadata": {},
     "output_type": "display_data"
    }
   ],
   "source": [
    "# boxplots of speed of only the M/S/D damage levels\n",
    "sns.boxplot(data=train[train.damage_level != 'N'], x='damage_level', y='speed')\n",
    "plt.title('Boxplots of speed in M/S/D categories')\n",
    "plt.show()"
   ]
  },
  {
   "cell_type": "markdown",
   "id": "30473017-2656-47a2-b885-403ee3e6ed74",
   "metadata": {},
   "source": [
    "### Analyze damage_level vs speed with statistics\n",
    "- $H_0$ There is NO relationship between damage_level and speed\n",
    "- $H_a$ There IS a relationship\n",
    "- $\\alpha$ = .05\n",
    "categorical vs continuous, normally distributed, > 2 groups, equal variance => ANOVA"
   ]
  },
  {
   "cell_type": "code",
   "execution_count": 12,
   "id": "0d4b658e-32ec-422b-bb1e-7c5b688819f9",
   "metadata": {},
   "outputs": [
    {
     "data": {
      "text/plain": [
       "F_onewayResult(statistic=3.011229012721705, pvalue=0.028859123501074564)"
      ]
     },
     "execution_count": 12,
     "metadata": {},
     "output_type": "execute_result"
    }
   ],
   "source": [
    "# get ANOVA stats test results\n",
    "stats.f_oneway(train[train.damage_level == 'D'].speed, train[train.damage_level == 'S'].speed\n",
    "               , train[train.damage_level == 'M'].speed, train[train.damage_level == 'N'].speed)"
   ]
  },
  {
   "cell_type": "markdown",
   "id": "d28e1243-5a85-40fe-94d6-c38ec142a022",
   "metadata": {},
   "source": [
    "### Summarize damage_level vs speed\n",
    "\n",
    "- p is < .05, so we can reject the null hypothesis which suggests the $H_a$\n",
    "- In summary, there is an association between damage_level and speed\n",
    "    * The difference is slight, and it's unexpected, i.e. slower speeds are more likely to result in greater damage\n",
    "        * my guess is that this is because smaller aircraft are more likely to sustain damage and they generally fly at slower speeds\n"
   ]
  },
  {
   "cell_type": "markdown",
   "id": "2ceed585-6683-41f2-89d2-8830d8606658",
   "metadata": {
    "tags": []
   },
   "source": [
    "## Question 3. Is damage_level associated with ac_mass?"
   ]
  },
  {
   "cell_type": "markdown",
   "id": "bef54fd4-cf7c-4b4a-9185-b579582aa982",
   "metadata": {},
   "source": [
    "### Visualize"
   ]
  },
  {
   "cell_type": "code",
   "execution_count": 13,
   "id": "ae88ca74-68cb-406a-a763-bf6cc912ef3e",
   "metadata": {},
   "outputs": [
    {
     "data": {
      "image/png": "[encoded data removed]",
      "text/plain": [
       "<Figure size 640x480 with 1 Axes>"
      ]
     },
     "metadata": {},
     "output_type": "display_data"
    },
    {
     "data": {
      "image/png": "[encoded data removed]",
      "text/plain": [
       "<Figure size 640x480 with 1 Axes>"
      ]
     },
     "metadata": {},
     "output_type": "display_data"
    }
   ],
   "source": [
    "# visualize distribution of damage levels vs ac_mass\n",
    "e.get_damage_catfeature_plot(train, 'ac_mass')"
   ]
  },
  {
   "cell_type": "markdown",
   "id": "842028c0-288f-49ea-a94b-d2b695605a38",
   "metadata": {},
   "source": [
    "### Analyze damage_level vs ac_mass with statistics\n",
    "- $H_0$ There is NO relationship between damage_level and ac_mass\n",
    "- $H_a$ There IS a relationship\n",
    "- $\\alpha$ = .05\n",
    "categorical vs categorical => chi^2 test"
   ]
  },
  {
   "cell_type": "code",
   "execution_count": 14,
   "id": "67d1ef9b-96c2-487f-8148-342221b37d14",
   "metadata": {},
   "outputs": [
    {
     "name": "stdout",
     "output_type": "stream",
     "text": [
      "---- Observed Crosstab ----\n"
     ]
    },
    {
     "data": {
      "text/html": [
       "<div>\n",
       "<style scoped>\n",
       "    .dataframe tbody tr th:only-of-type {\n",
       "        vertical-align: middle;\n",
       "    }\n",
       "\n",
       "    .dataframe tbody tr th {\n",
       "        vertical-align: top;\n",
       "    }\n",
       "\n",
       "    .dataframe thead th {\n",
       "        text-align: right;\n",
       "    }\n",
       "</style>\n",
       "<table border=\"1\" class=\"dataframe\">\n",
       "  <thead>\n",
       "    <tr style=\"text-align: right;\">\n",
       "      <th>ac_mass</th>\n",
       "      <th>1</th>\n",
       "      <th>2</th>\n",
       "      <th>3</th>\n",
       "      <th>4</th>\n",
       "      <th>5</th>\n",
       "    </tr>\n",
       "    <tr>\n",
       "      <th>damage_level</th>\n",
       "      <th></th>\n",
       "      <th></th>\n",
       "      <th></th>\n",
       "      <th></th>\n",
       "      <th></th>\n",
       "    </tr>\n",
       "  </thead>\n",
       "  <tbody>\n",
       "    <tr>\n",
       "      <th>D</th>\n",
       "      <td>3</td>\n",
       "      <td>3</td>\n",
       "      <td>1</td>\n",
       "      <td>0</td>\n",
       "      <td>0</td>\n",
       "    </tr>\n",
       "    <tr>\n",
       "      <th>M</th>\n",
       "      <td>390</td>\n",
       "      <td>270</td>\n",
       "      <td>412</td>\n",
       "      <td>847</td>\n",
       "      <td>19</td>\n",
       "    </tr>\n",
       "    <tr>\n",
       "      <th>N</th>\n",
       "      <td>1980</td>\n",
       "      <td>1672</td>\n",
       "      <td>6008</td>\n",
       "      <td>24341</td>\n",
       "      <td>250</td>\n",
       "    </tr>\n",
       "    <tr>\n",
       "      <th>S</th>\n",
       "      <td>145</td>\n",
       "      <td>156</td>\n",
       "      <td>177</td>\n",
       "      <td>474</td>\n",
       "      <td>25</td>\n",
       "    </tr>\n",
       "  </tbody>\n",
       "</table>\n",
       "</div>"
      ],
      "text/plain": [
       "ac_mass          1     2     3      4    5\n",
       "damage_level                              \n",
       "D                3     3     1      0    0\n",
       "M              390   270   412    847   19\n",
       "N             1980  1672  6008  24341  250\n",
       "S              145   156   177    474   25"
      ]
     },
     "metadata": {},
     "output_type": "display_data"
    },
    {
     "name": "stdout",
     "output_type": "stream",
     "text": [
      "---- Expected Crosstab from chi2 test ----\n"
     ]
    },
    {
     "data": {
      "text/html": [
       "<div>\n",
       "<style scoped>\n",
       "    .dataframe tbody tr th:only-of-type {\n",
       "        vertical-align: middle;\n",
       "    }\n",
       "\n",
       "    .dataframe tbody tr th {\n",
       "        vertical-align: top;\n",
       "    }\n",
       "\n",
       "    .dataframe thead th {\n",
       "        text-align: right;\n",
       "    }\n",
       "</style>\n",
       "<table border=\"1\" class=\"dataframe\">\n",
       "  <thead>\n",
       "    <tr style=\"text-align: right;\">\n",
       "      <th>ac_mass</th>\n",
       "      <th>1</th>\n",
       "      <th>2</th>\n",
       "      <th>3</th>\n",
       "      <th>4</th>\n",
       "      <th>5</th>\n",
       "    </tr>\n",
       "    <tr>\n",
       "      <th>damage_level</th>\n",
       "      <th></th>\n",
       "      <th></th>\n",
       "      <th></th>\n",
       "      <th></th>\n",
       "      <th></th>\n",
       "    </tr>\n",
       "  </thead>\n",
       "  <tbody>\n",
       "    <tr>\n",
       "      <th>D</th>\n",
       "      <td>0</td>\n",
       "      <td>0</td>\n",
       "      <td>1</td>\n",
       "      <td>5</td>\n",
       "      <td>0</td>\n",
       "    </tr>\n",
       "    <tr>\n",
       "      <th>M</th>\n",
       "      <td>131</td>\n",
       "      <td>110</td>\n",
       "      <td>344</td>\n",
       "      <td>1338</td>\n",
       "      <td>15</td>\n",
       "    </tr>\n",
       "    <tr>\n",
       "      <th>N</th>\n",
       "      <td>2320</td>\n",
       "      <td>1936</td>\n",
       "      <td>6079</td>\n",
       "      <td>23645</td>\n",
       "      <td>271</td>\n",
       "    </tr>\n",
       "    <tr>\n",
       "      <th>S</th>\n",
       "      <td>66</td>\n",
       "      <td>55</td>\n",
       "      <td>173</td>\n",
       "      <td>674</td>\n",
       "      <td>8</td>\n",
       "    </tr>\n",
       "  </tbody>\n",
       "</table>\n",
       "</div>"
      ],
      "text/plain": [
       "ac_mass          1     2     3      4    5\n",
       "damage_level                              \n",
       "D                0     0     1      5    0\n",
       "M              131   110   344   1338   15\n",
       "N             2320  1936  6079  23645  271\n",
       "S               66    55   173    674    8"
      ]
     },
     "metadata": {},
     "output_type": "display_data"
    },
    {
     "name": "stdout",
     "output_type": "stream",
     "text": [
      "chi2 = 1459.789170467366,  p = 1.7820089879603714e-305,  degf = 12\n"
     ]
    }
   ],
   "source": [
    "# get crosstabs of observed and expected damage levels related to ac_mass and chi2 test\n",
    "e.get_chi2(train, 'ac_mass')"
   ]
  },
  {
   "cell_type": "markdown",
   "id": "e141a3ed-9b2d-4746-b693-bf81ac6ce366",
   "metadata": {},
   "source": [
    "### Summarize damage_level vs ac_mass\n",
    "\n",
    "- p is < .05, so we can reject the null hypothesis which suggests the $H_a$\n",
    "- In summary, there is an association between damage_level and ac_mass\n",
    "    * smaller aircraft (categories 1,2,3) generally had higher damage levels\n",
    "    * category 4 (most airline aircraft) aircraft had less damage\n",
    "    * category 5 aircraft (> 272,000 kg) had slightly more damage, but the total number of strikes is much smaller (<300), i.e. there's less data to work with"
   ]
  },
  {
   "cell_type": "markdown",
   "id": "4232bb20-dc42-43c2-a55f-3b099ed7c130",
   "metadata": {
    "tags": []
   },
   "source": [
    "## Question 4. Is damage_level associated with ac_class?"
   ]
  },
  {
   "cell_type": "markdown",
   "id": "a1a17fdb-d093-434c-9702-a7cc4512f416",
   "metadata": {},
   "source": [
    "### Visualize"
   ]
  },
  {
   "cell_type": "code",
   "execution_count": 15,
   "id": "3b3d09e2-c78c-4e1a-a51e-6382bf4095b8",
   "metadata": {},
   "outputs": [
    {
     "data": {
      "image/png": "[encoded data removed]",
      "text/plain": [
       "<Figure size 640x480 with 1 Axes>"
      ]
     },
     "metadata": {},
     "output_type": "display_data"
    },
    {
     "data": {
      "image/png": "[encoded data removed]",
      "text/plain": [
       "<Figure size 640x480 with 1 Axes>"
      ]
     },
     "metadata": {},
     "output_type": "display_data"
    }
   ],
   "source": [
    "# visualize distribution of damage levels vs ac_class (airplane, helicopter)\n",
    "e.get_damage_catfeature_plot(train, 'ac_class')"
   ]
  },
  {
   "cell_type": "markdown",
   "id": "687df96f-8be3-4ecc-b0c0-9beed8b87aa3",
   "metadata": {},
   "source": [
    "### Analyze damage_level vs ac_class with statistics\n",
    "- $H_0$ There is NO relationship between damage_level and ac_class\n",
    "- $H_a$ There IS a relationship\n",
    "- $\\alpha$ = .05\n",
    "categorical vs categorical => chi^2 test"
   ]
  },
  {
   "cell_type": "code",
   "execution_count": 16,
   "id": "f9edab9b-9e8c-4db0-8f7e-74295018d54b",
   "metadata": {},
   "outputs": [
    {
     "name": "stdout",
     "output_type": "stream",
     "text": [
      "---- Observed Crosstab ----\n"
     ]
    },
    {
     "data": {
      "text/html": [
       "<div>\n",
       "<style scoped>\n",
       "    .dataframe tbody tr th:only-of-type {\n",
       "        vertical-align: middle;\n",
       "    }\n",
       "\n",
       "    .dataframe tbody tr th {\n",
       "        vertical-align: top;\n",
       "    }\n",
       "\n",
       "    .dataframe thead th {\n",
       "        text-align: right;\n",
       "    }\n",
       "</style>\n",
       "<table border=\"1\" class=\"dataframe\">\n",
       "  <thead>\n",
       "    <tr style=\"text-align: right;\">\n",
       "      <th>ac_class</th>\n",
       "      <th>A</th>\n",
       "      <th>B</th>\n",
       "    </tr>\n",
       "    <tr>\n",
       "      <th>damage_level</th>\n",
       "      <th></th>\n",
       "      <th></th>\n",
       "    </tr>\n",
       "  </thead>\n",
       "  <tbody>\n",
       "    <tr>\n",
       "      <th>D</th>\n",
       "      <td>7</td>\n",
       "      <td>0</td>\n",
       "    </tr>\n",
       "    <tr>\n",
       "      <th>M</th>\n",
       "      <td>1931</td>\n",
       "      <td>7</td>\n",
       "    </tr>\n",
       "    <tr>\n",
       "      <th>N</th>\n",
       "      <td>34159</td>\n",
       "      <td>92</td>\n",
       "    </tr>\n",
       "    <tr>\n",
       "      <th>S</th>\n",
       "      <td>967</td>\n",
       "      <td>10</td>\n",
       "    </tr>\n",
       "  </tbody>\n",
       "</table>\n",
       "</div>"
      ],
      "text/plain": [
       "ac_class        A    B  \n",
       "damage_level            \n",
       "D                 7    0\n",
       "M              1931    7\n",
       "N             34159   92\n",
       "S               967   10"
      ]
     },
     "metadata": {},
     "output_type": "display_data"
    },
    {
     "name": "stdout",
     "output_type": "stream",
     "text": [
      "---- Expected Crosstab from chi2 test ----\n"
     ]
    },
    {
     "data": {
      "text/html": [
       "<div>\n",
       "<style scoped>\n",
       "    .dataframe tbody tr th:only-of-type {\n",
       "        vertical-align: middle;\n",
       "    }\n",
       "\n",
       "    .dataframe tbody tr th {\n",
       "        vertical-align: top;\n",
       "    }\n",
       "\n",
       "    .dataframe thead th {\n",
       "        text-align: right;\n",
       "    }\n",
       "</style>\n",
       "<table border=\"1\" class=\"dataframe\">\n",
       "  <thead>\n",
       "    <tr style=\"text-align: right;\">\n",
       "      <th>ac_class</th>\n",
       "      <th>A</th>\n",
       "      <th>B</th>\n",
       "    </tr>\n",
       "    <tr>\n",
       "      <th>damage_level</th>\n",
       "      <th></th>\n",
       "      <th></th>\n",
       "    </tr>\n",
       "  </thead>\n",
       "  <tbody>\n",
       "    <tr>\n",
       "      <th>D</th>\n",
       "      <td>7</td>\n",
       "      <td>0</td>\n",
       "    </tr>\n",
       "    <tr>\n",
       "      <th>M</th>\n",
       "      <td>1932</td>\n",
       "      <td>6</td>\n",
       "    </tr>\n",
       "    <tr>\n",
       "      <th>N</th>\n",
       "      <td>34151</td>\n",
       "      <td>100</td>\n",
       "    </tr>\n",
       "    <tr>\n",
       "      <th>S</th>\n",
       "      <td>974</td>\n",
       "      <td>3</td>\n",
       "    </tr>\n",
       "  </tbody>\n",
       "</table>\n",
       "</div>"
      ],
      "text/plain": [
       "ac_class        A    B  \n",
       "damage_level            \n",
       "D                 7    0\n",
       "M              1932    6\n",
       "N             34151  100\n",
       "S               974    3"
      ]
     },
     "metadata": {},
     "output_type": "display_data"
    },
    {
     "name": "stdout",
     "output_type": "stream",
     "text": [
      "chi2 = 18.860447860258095,  p = 0.0002921772227948457,  degf = 3\n"
     ]
    }
   ],
   "source": [
    "# get crosstabs of observed and expected damage levels related to ac_mass and chi2 test\n",
    "e.get_chi2(train, 'ac_class')"
   ]
  },
  {
   "cell_type": "markdown",
   "id": "144f96b5-4bde-4600-a1c4-e2d4db73b465",
   "metadata": {},
   "source": [
    "### Summarize damage_level vs ac_class\n",
    "\n",
    "- p is < .05, so we can reject the null hypothesis which suggests the $H_a$\n",
    "- In summary, there is an association between damage_level and ac_class\n",
    "    * Helicopters are more likely to sustain substantial damage\n",
    "    * Airplanes experience damage close to expected, though"
   ]
  },
  {
   "cell_type": "markdown",
   "id": "769a4946-36bf-401d-841c-0712274456c8",
   "metadata": {
    "tags": []
   },
   "source": [
    "# Question 5. Is damage_level associated with type_eng ?"
   ]
  },
  {
   "cell_type": "markdown",
   "id": "61c07ad5-942f-44c8-a323-40d96c8eb00c",
   "metadata": {},
   "source": [
    "### Visualize"
   ]
  },
  {
   "cell_type": "code",
   "execution_count": 17,
   "id": "d342f5dd-3dd3-454c-ad73-f44c720e42ac",
   "metadata": {},
   "outputs": [
    {
     "data": {
      "image/png": "[encoded data removed]",
      "text/plain": [
       "<Figure size 640x480 with 1 Axes>"
      ]
     },
     "metadata": {},
     "output_type": "display_data"
    },
    {
     "data": {
      "image/png": "[encoded data removed]",
      "text/plain": [
       "<Figure size 640x480 with 1 Axes>"
      ]
     },
     "metadata": {},
     "output_type": "display_data"
    }
   ],
   "source": [
    "# visualize distribution of damage levels vs type_eng\n",
    "e.get_damage_catfeature_plot(train, 'type_eng')"
   ]
  },
  {
   "cell_type": "markdown",
   "id": "5a7d9586-8463-498a-b5b5-eafd6863bfbc",
   "metadata": {},
   "source": [
    "### Analyze damage_level vs type_eng with statistics\n",
    "- $H_0$ There is NO relationship between damage_level type_eng charges\n",
    "- $H_a$ There IS a relationship\n",
    "- $\\alpha$ = .05\n",
    "categorical vs categorical => chi^2 test"
   ]
  },
  {
   "cell_type": "code",
   "execution_count": 18,
   "id": "f50bb7fb-d87c-40ce-8df7-ed214933b17c",
   "metadata": {},
   "outputs": [
    {
     "name": "stdout",
     "output_type": "stream",
     "text": [
      "---- Observed Crosstab ----\n"
     ]
    },
    {
     "data": {
      "text/html": [
       "<div>\n",
       "<style scoped>\n",
       "    .dataframe tbody tr th:only-of-type {\n",
       "        vertical-align: middle;\n",
       "    }\n",
       "\n",
       "    .dataframe tbody tr th {\n",
       "        vertical-align: top;\n",
       "    }\n",
       "\n",
       "    .dataframe thead th {\n",
       "        text-align: right;\n",
       "    }\n",
       "</style>\n",
       "<table border=\"1\" class=\"dataframe\">\n",
       "  <thead>\n",
       "    <tr style=\"text-align: right;\">\n",
       "      <th>type_eng</th>\n",
       "      <th>A</th>\n",
       "      <th>B</th>\n",
       "      <th>C</th>\n",
       "      <th>D</th>\n",
       "      <th>F</th>\n",
       "    </tr>\n",
       "    <tr>\n",
       "      <th>damage_level</th>\n",
       "      <th></th>\n",
       "      <th></th>\n",
       "      <th></th>\n",
       "      <th></th>\n",
       "      <th></th>\n",
       "    </tr>\n",
       "  </thead>\n",
       "  <tbody>\n",
       "    <tr>\n",
       "      <th>D</th>\n",
       "      <td>4</td>\n",
       "      <td>0</td>\n",
       "      <td>1</td>\n",
       "      <td>2</td>\n",
       "      <td>0</td>\n",
       "    </tr>\n",
       "    <tr>\n",
       "      <th>M</th>\n",
       "      <td>442</td>\n",
       "      <td>9</td>\n",
       "      <td>297</td>\n",
       "      <td>1185</td>\n",
       "      <td>5</td>\n",
       "    </tr>\n",
       "    <tr>\n",
       "      <th>N</th>\n",
       "      <td>2146</td>\n",
       "      <td>49</td>\n",
       "      <td>2897</td>\n",
       "      <td>29078</td>\n",
       "      <td>81</td>\n",
       "    </tr>\n",
       "    <tr>\n",
       "      <th>S</th>\n",
       "      <td>180</td>\n",
       "      <td>6</td>\n",
       "      <td>107</td>\n",
       "      <td>679</td>\n",
       "      <td>5</td>\n",
       "    </tr>\n",
       "  </tbody>\n",
       "</table>\n",
       "</div>"
      ],
      "text/plain": [
       "type_eng         A   B     C      D   F\n",
       "damage_level                           \n",
       "D                4   0     1      2   0\n",
       "M              442   9   297   1185   5\n",
       "N             2146  49  2897  29078  81\n",
       "S              180   6   107    679   5"
      ]
     },
     "metadata": {},
     "output_type": "display_data"
    },
    {
     "name": "stdout",
     "output_type": "stream",
     "text": [
      "---- Expected Crosstab from chi2 test ----\n"
     ]
    },
    {
     "data": {
      "text/html": [
       "<div>\n",
       "<style scoped>\n",
       "    .dataframe tbody tr th:only-of-type {\n",
       "        vertical-align: middle;\n",
       "    }\n",
       "\n",
       "    .dataframe tbody tr th {\n",
       "        vertical-align: top;\n",
       "    }\n",
       "\n",
       "    .dataframe thead th {\n",
       "        text-align: right;\n",
       "    }\n",
       "</style>\n",
       "<table border=\"1\" class=\"dataframe\">\n",
       "  <thead>\n",
       "    <tr style=\"text-align: right;\">\n",
       "      <th>type_eng</th>\n",
       "      <th>A</th>\n",
       "      <th>B</th>\n",
       "      <th>C</th>\n",
       "      <th>D</th>\n",
       "      <th>F</th>\n",
       "    </tr>\n",
       "    <tr>\n",
       "      <th>damage_level</th>\n",
       "      <th></th>\n",
       "      <th></th>\n",
       "      <th></th>\n",
       "      <th></th>\n",
       "      <th></th>\n",
       "    </tr>\n",
       "  </thead>\n",
       "  <tbody>\n",
       "    <tr>\n",
       "      <th>D</th>\n",
       "      <td>1</td>\n",
       "      <td>0</td>\n",
       "      <td>1</td>\n",
       "      <td>6</td>\n",
       "      <td>0</td>\n",
       "    </tr>\n",
       "    <tr>\n",
       "      <th>M</th>\n",
       "      <td>145</td>\n",
       "      <td>3</td>\n",
       "      <td>172</td>\n",
       "      <td>1613</td>\n",
       "      <td>5</td>\n",
       "    </tr>\n",
       "    <tr>\n",
       "      <th>N</th>\n",
       "      <td>2554</td>\n",
       "      <td>59</td>\n",
       "      <td>3042</td>\n",
       "      <td>28512</td>\n",
       "      <td>84</td>\n",
       "    </tr>\n",
       "    <tr>\n",
       "      <th>S</th>\n",
       "      <td>73</td>\n",
       "      <td>2</td>\n",
       "      <td>87</td>\n",
       "      <td>813</td>\n",
       "      <td>2</td>\n",
       "    </tr>\n",
       "  </tbody>\n",
       "</table>\n",
       "</div>"
      ],
      "text/plain": [
       "type_eng         A   B     C      D   F\n",
       "damage_level                           \n",
       "D                1   0     1      6   0\n",
       "M              145   3   172   1613   5\n",
       "N             2554  59  3042  28512  84\n",
       "S               73   2    87    813   2"
      ]
     },
     "metadata": {},
     "output_type": "display_data"
    },
    {
     "name": "stdout",
     "output_type": "stream",
     "text": [
      "chi2 = 1135.7407205337056,  p = 1.1828641050469783e-235,  degf = 12\n"
     ]
    }
   ],
   "source": [
    "# get crosstabs of observed and expected damage levels related to type_eng and chi2 test\n",
    "e.get_chi2(train, 'type_eng')"
   ]
  },
  {
   "cell_type": "markdown",
   "id": "c55eba95-25d0-4af8-a5d2-acc10f2ec35a",
   "metadata": {},
   "source": [
    "### Summarize damage_level vs type_eng\n",
    "\n",
    "- p is < .05, so we can reject the null hypothesis which suggests the $H_a$\n",
    "- In summary, there is an association between damage_level and type_eng\n",
    "    * Categories: A: piston engine, B: turbojet, C: turboprop, D: turbofan (most airline passenger jets), F: turboshaft (helicopter)\n",
    "    * Categories A/B/C and F are more likely to be damaged\n",
    "    * Category D (turbofan) are less likely to be damaged"
   ]
  },
  {
   "cell_type": "markdown",
   "id": "7b68f7b8-1a10-4d17-913d-4d7962501ead",
   "metadata": {
    "tags": []
   },
   "source": [
    "# Question 6. Is damage_level associated with num_engs ?"
   ]
  },
  {
   "cell_type": "markdown",
   "id": "af5c7a6b-65b5-4dfc-b2d1-0fbed992bf2c",
   "metadata": {},
   "source": [
    "### Visualize"
   ]
  },
  {
   "cell_type": "code",
   "execution_count": 19,
   "id": "672e8452-6147-42bb-9037-66754cca1200",
   "metadata": {},
   "outputs": [
    {
     "data": {
      "image/png": "[encoded data removed]",
      "text/plain": [
       "<Figure size 640x480 with 1 Axes>"
      ]
     },
     "metadata": {},
     "output_type": "display_data"
    },
    {
     "data": {
      "image/png": "[encoded data removed]",
      "text/plain": [
       "<Figure size 640x480 with 1 Axes>"
      ]
     },
     "metadata": {},
     "output_type": "display_data"
    }
   ],
   "source": [
    "# visualize distribution of damage levels vs num_engs\n",
    "e.get_damage_catfeature_plot(train, 'num_engs')"
   ]
  },
  {
   "cell_type": "markdown",
   "id": "f98f4d0e-c4ca-45a2-b262-7c7b0a793c6f",
   "metadata": {},
   "source": [
    "### Analyze damage_level vs num_engs with statistics\n",
    "- $H_0$ There is NO relationship between damage_level and num_engs\n",
    "- $H_a$ There IS a relationship\n",
    "- $\\alpha$ = .05\n",
    "categorical vs categorical => chi^2 test"
   ]
  },
  {
   "cell_type": "code",
   "execution_count": 20,
   "id": "0693efe2-bb09-4348-8384-75cbb49a5636",
   "metadata": {},
   "outputs": [
    {
     "name": "stdout",
     "output_type": "stream",
     "text": [
      "---- Observed Crosstab ----\n"
     ]
    },
    {
     "data": {
      "text/html": [
       "<div>\n",
       "<style scoped>\n",
       "    .dataframe tbody tr th:only-of-type {\n",
       "        vertical-align: middle;\n",
       "    }\n",
       "\n",
       "    .dataframe tbody tr th {\n",
       "        vertical-align: top;\n",
       "    }\n",
       "\n",
       "    .dataframe thead th {\n",
       "        text-align: right;\n",
       "    }\n",
       "</style>\n",
       "<table border=\"1\" class=\"dataframe\">\n",
       "  <thead>\n",
       "    <tr style=\"text-align: right;\">\n",
       "      <th>num_engs</th>\n",
       "      <th>1</th>\n",
       "      <th>2</th>\n",
       "      <th>3</th>\n",
       "      <th>4</th>\n",
       "    </tr>\n",
       "    <tr>\n",
       "      <th>damage_level</th>\n",
       "      <th></th>\n",
       "      <th></th>\n",
       "      <th></th>\n",
       "      <th></th>\n",
       "    </tr>\n",
       "  </thead>\n",
       "  <tbody>\n",
       "    <tr>\n",
       "      <th>D</th>\n",
       "      <td>3</td>\n",
       "      <td>4</td>\n",
       "      <td>0</td>\n",
       "      <td>0</td>\n",
       "    </tr>\n",
       "    <tr>\n",
       "      <th>M</th>\n",
       "      <td>355</td>\n",
       "      <td>1467</td>\n",
       "      <td>78</td>\n",
       "      <td>38</td>\n",
       "    </tr>\n",
       "    <tr>\n",
       "      <th>N</th>\n",
       "      <td>1854</td>\n",
       "      <td>30162</td>\n",
       "      <td>1780</td>\n",
       "      <td>455</td>\n",
       "    </tr>\n",
       "    <tr>\n",
       "      <th>S</th>\n",
       "      <td>132</td>\n",
       "      <td>777</td>\n",
       "      <td>35</td>\n",
       "      <td>33</td>\n",
       "    </tr>\n",
       "  </tbody>\n",
       "</table>\n",
       "</div>"
      ],
      "text/plain": [
       "num_engs         1      2     3    4\n",
       "damage_level                        \n",
       "D                3      4     0    0\n",
       "M              355   1467    78   38\n",
       "N             1854  30162  1780  455\n",
       "S              132    777    35   33"
      ]
     },
     "metadata": {},
     "output_type": "display_data"
    },
    {
     "name": "stdout",
     "output_type": "stream",
     "text": [
      "---- Expected Crosstab from chi2 test ----\n"
     ]
    },
    {
     "data": {
      "text/html": [
       "<div>\n",
       "<style scoped>\n",
       "    .dataframe tbody tr th:only-of-type {\n",
       "        vertical-align: middle;\n",
       "    }\n",
       "\n",
       "    .dataframe tbody tr th {\n",
       "        vertical-align: top;\n",
       "    }\n",
       "\n",
       "    .dataframe thead th {\n",
       "        text-align: right;\n",
       "    }\n",
       "</style>\n",
       "<table border=\"1\" class=\"dataframe\">\n",
       "  <thead>\n",
       "    <tr style=\"text-align: right;\">\n",
       "      <th>num_engs</th>\n",
       "      <th>1</th>\n",
       "      <th>2</th>\n",
       "      <th>3</th>\n",
       "      <th>4</th>\n",
       "    </tr>\n",
       "    <tr>\n",
       "      <th>damage_level</th>\n",
       "      <th></th>\n",
       "      <th></th>\n",
       "      <th></th>\n",
       "      <th></th>\n",
       "    </tr>\n",
       "  </thead>\n",
       "  <tbody>\n",
       "    <tr>\n",
       "      <th>D</th>\n",
       "      <td>0</td>\n",
       "      <td>6</td>\n",
       "      <td>0</td>\n",
       "      <td>0</td>\n",
       "    </tr>\n",
       "    <tr>\n",
       "      <th>M</th>\n",
       "      <td>122</td>\n",
       "      <td>1690</td>\n",
       "      <td>99</td>\n",
       "      <td>27</td>\n",
       "    </tr>\n",
       "    <tr>\n",
       "      <th>N</th>\n",
       "      <td>2160</td>\n",
       "      <td>29862</td>\n",
       "      <td>1744</td>\n",
       "      <td>485</td>\n",
       "    </tr>\n",
       "    <tr>\n",
       "      <th>S</th>\n",
       "      <td>62</td>\n",
       "      <td>852</td>\n",
       "      <td>50</td>\n",
       "      <td>14</td>\n",
       "    </tr>\n",
       "  </tbody>\n",
       "</table>\n",
       "</div>"
      ],
      "text/plain": [
       "num_engs         1      2     3    4\n",
       "damage_level                        \n",
       "D                0      6     0    0\n",
       "M              122   1690    99   27\n",
       "N             2160  29862  1744  485\n",
       "S               62    852    50   14"
      ]
     },
     "metadata": {},
     "output_type": "display_data"
    },
    {
     "name": "stdout",
     "output_type": "stream",
     "text": [
      "chi2 = 664.0679344684685,  p = 3.652271155556935e-137,  degf = 9\n"
     ]
    }
   ],
   "source": [
    "# get crosstabs of observed and expected damage levels related to num_engs and chi2 test\n",
    "e.get_chi2(train, 'num_engs')"
   ]
  },
  {
   "cell_type": "markdown",
   "id": "52af0f46-6612-4520-b5cb-3bbf988bf3be",
   "metadata": {},
   "source": [
    "### Summarize damage_level vs num_engs\n",
    "\n",
    "- p is < .05, so we can reject the null hypothesis which suggests the $H_a$\n",
    "- In summary, there is an association between damage_level and num_engs\n",
    "    * Having 1 or 4 engines is more likely to result in damage\n",
    "    * Having 2 or 3 engines is less likely to result in damage"
   ]
  },
  {
   "cell_type": "markdown",
   "id": "81dca14d-930d-4c84-871d-5db31eef5925",
   "metadata": {},
   "source": [
    "# Exploration Summary\n",
    "I will move to modeling with the following features:\n",
    "- size_of_species\n",
    "- speed\n",
    "- ac_mass\n",
    "- ac_class\n",
    "- type_eng\n",
    "- num_engs\n",
    "- time_of_day\n",
    "- phase_of_flight\n",
    "- precipitation (precip_none/rain/snow/fog)\n",
    "- num_struck\n",
    "\n",
    "\n",
    "The following features will have a LOT of categories. I may go back and bin them, but not for MVP:\n",
    "- state\n",
    "- airport_id\n",
    "- aircraft\n",
    "- species_id\n",
    "- runway\n",
    "- operator"
   ]
  },
  {
   "cell_type": "markdown",
   "id": "ce5644a9-dd6d-4cca-8967-551b6b7204d6",
   "metadata": {},
   "source": [
    "# Modeling\n",
    "* Evaluation Metrics\n",
    "    * I will use accuracy for evaluating models\n",
    "* The average target is 'N' which is the baseline prediction\n",
    "* I will evaluate 4 different model types and various hyperparameter configurations\n",
    "* Models will be evaluated on train and validate data\n",
    "* The model that performs the best will then be evaluated on test"
   ]
  },
  {
   "cell_type": "code",
   "execution_count": 21,
   "id": "0c1e70d0-b1eb-431b-ae70-73ae4275f7be",
   "metadata": {},
   "outputs": [
    {
     "name": "stdout",
     "output_type": "stream",
     "text": [
      "Prepared df: (61955, 31)\n",
      "\n",
      "Train: (37173, 31)\n",
      "Validate: (12391, 31)\n",
      "Test: (12391, 31)\n"
     ]
    }
   ],
   "source": [
    "## prep data for modeling (encoding categorical columns)\n",
    "model_df = w.prep_w_strike_df_for_modeling_mvp(df)\n",
    "train, validate, test = w.split_function(model_df, 'damage_level')\n",
    "\n",
    "# split into X, y for modeling\n",
    "X_train, X_validate, X_test, y_train, y_validate, y_test, baseline_accuracy = m.get_X_y_baseline(train\n",
    "                                                                                                 , validate\n",
    "                                                                                                 , test\n",
    "                                                                                                 , 'damage_level')\n",
    "\n",
    "# scaling continuous variable columns for use in modeling   (only one column in this case, 'speed')\n",
    "X_train_scaled, X_validate_scaled, X_test_scaled = w.get_minmax_scaled(X_train\n",
    "                                                                       , X_validate\n",
    "                                                                       , X_test\n",
    "                                                                       , ['speed'])"
   ]
  },
  {
   "cell_type": "code",
   "execution_count": 22,
   "id": "5b8097fb-24d9-42e9-868d-ccdbee940e05",
   "metadata": {},
   "outputs": [
    {
     "name": "stdout",
     "output_type": "stream",
     "text": [
      "Baseline (damage_level == \"N\") =   0.9213945605681543\n"
     ]
    }
   ],
   "source": [
    "# print baseline accuracy\n",
    "print(f'Baseline (damage_level == \"N\") =   {baseline_accuracy}')"
   ]
  },
  {
   "cell_type": "markdown",
   "id": "fe366a63-f8f6-4a08-931b-b8211c26393f",
   "metadata": {},
   "source": [
    "## Model 1: Logistic Regression"
   ]
  },
  {
   "cell_type": "code",
   "execution_count": 23,
   "id": "47db9a92-b985-45b8-9519-123cfb12d40f",
   "metadata": {},
   "outputs": [
    {
     "data": {
      "text/html": [
       "<div>\n",
       "<style scoped>\n",
       "    .dataframe tbody tr th:only-of-type {\n",
       "        vertical-align: middle;\n",
       "    }\n",
       "\n",
       "    .dataframe tbody tr th {\n",
       "        vertical-align: top;\n",
       "    }\n",
       "\n",
       "    .dataframe thead th {\n",
       "        text-align: right;\n",
       "    }\n",
       "</style>\n",
       "<table border=\"1\" class=\"dataframe\">\n",
       "  <thead>\n",
       "    <tr style=\"text-align: right;\">\n",
       "      <th></th>\n",
       "      <th>C</th>\n",
       "      <th>train_acc</th>\n",
       "      <th>val_acc</th>\n",
       "      <th>coef_speed</th>\n",
       "      <th>coef_precip_none</th>\n",
       "      <th>coef_precip_rain</th>\n",
       "      <th>coef_precip_snow</th>\n",
       "      <th>coef_precip_fog</th>\n",
       "      <th>coef_ac_mass</th>\n",
       "      <th>coef_num_engs</th>\n",
       "      <th>...</th>\n",
       "      <th>coef_phase_of_flight_Descent</th>\n",
       "      <th>coef_phase_of_flight_En Route</th>\n",
       "      <th>coef_phase_of_flight_Landing Roll</th>\n",
       "      <th>coef_phase_of_flight_Local</th>\n",
       "      <th>coef_phase_of_flight_Parked</th>\n",
       "      <th>coef_phase_of_flight_Take-off Run</th>\n",
       "      <th>coef_phase_of_flight_Taxi</th>\n",
       "      <th>coef_num_struck_11-100</th>\n",
       "      <th>coef_num_struck_2-10</th>\n",
       "      <th>coef_num_struck_More than 100</th>\n",
       "    </tr>\n",
       "  </thead>\n",
       "  <tbody>\n",
       "    <tr>\n",
       "      <th>0</th>\n",
       "      <td>0.01</td>\n",
       "      <td>0.921771</td>\n",
       "      <td>0.921314</td>\n",
       "      <td>-0.003668</td>\n",
       "      <td>-0.002756</td>\n",
       "      <td>-0.00487</td>\n",
       "      <td>-0.000419</td>\n",
       "      <td>0.007964</td>\n",
       "      <td>-0.094135</td>\n",
       "      <td>-0.024113</td>\n",
       "      <td>...</td>\n",
       "      <td>-0.000541</td>\n",
       "      <td>0.0</td>\n",
       "      <td>0.002344</td>\n",
       "      <td>-0.000114</td>\n",
       "      <td>-0.000007</td>\n",
       "      <td>0.020158</td>\n",
       "      <td>-0.000135</td>\n",
       "      <td>0.009233</td>\n",
       "      <td>-0.013472</td>\n",
       "      <td>-0.000022</td>\n",
       "    </tr>\n",
       "    <tr>\n",
       "      <th>0</th>\n",
       "      <td>0.1</td>\n",
       "      <td>0.922094</td>\n",
       "      <td>0.921152</td>\n",
       "      <td>-0.038544</td>\n",
       "      <td>-0.184467</td>\n",
       "      <td>-0.098303</td>\n",
       "      <td>-0.011496</td>\n",
       "      <td>0.0955</td>\n",
       "      <td>-0.501513</td>\n",
       "      <td>-0.205578</td>\n",
       "      <td>...</td>\n",
       "      <td>-0.005116</td>\n",
       "      <td>0.0</td>\n",
       "      <td>-0.001718</td>\n",
       "      <td>-0.002731</td>\n",
       "      <td>-0.000099</td>\n",
       "      <td>0.222724</td>\n",
       "      <td>-0.003829</td>\n",
       "      <td>0.123253</td>\n",
       "      <td>-0.173958</td>\n",
       "      <td>-0.000265</td>\n",
       "    </tr>\n",
       "    <tr>\n",
       "      <th>0</th>\n",
       "      <td>1.0</td>\n",
       "      <td>0.922444</td>\n",
       "      <td>0.920668</td>\n",
       "      <td>-0.084911</td>\n",
       "      <td>-0.713634</td>\n",
       "      <td>-0.211996</td>\n",
       "      <td>-0.024099</td>\n",
       "      <td>0.220146</td>\n",
       "      <td>-0.704214</td>\n",
       "      <td>-0.433759</td>\n",
       "      <td>...</td>\n",
       "      <td>-0.00705</td>\n",
       "      <td>0.0</td>\n",
       "      <td>-0.066364</td>\n",
       "      <td>-0.007977</td>\n",
       "      <td>-0.000313</td>\n",
       "      <td>0.48304</td>\n",
       "      <td>-0.011821</td>\n",
       "      <td>0.278564</td>\n",
       "      <td>-0.37256</td>\n",
       "      <td>-0.000394</td>\n",
       "    </tr>\n",
       "    <tr>\n",
       "      <th>0</th>\n",
       "      <td>10.0</td>\n",
       "      <td>0.922444</td>\n",
       "      <td>0.920668</td>\n",
       "      <td>-0.085682</td>\n",
       "      <td>-0.754389</td>\n",
       "      <td>-0.215158</td>\n",
       "      <td>-0.024005</td>\n",
       "      <td>0.237229</td>\n",
       "      <td>-0.700943</td>\n",
       "      <td>-0.422105</td>\n",
       "      <td>...</td>\n",
       "      <td>-0.00704</td>\n",
       "      <td>0.0</td>\n",
       "      <td>-0.070245</td>\n",
       "      <td>-0.008488</td>\n",
       "      <td>-0.000346</td>\n",
       "      <td>0.519279</td>\n",
       "      <td>-0.012555</td>\n",
       "      <td>0.294695</td>\n",
       "      <td>-0.388523</td>\n",
       "      <td>-0.000387</td>\n",
       "    </tr>\n",
       "    <tr>\n",
       "      <th>0</th>\n",
       "      <td>100.0</td>\n",
       "      <td>0.922417</td>\n",
       "      <td>0.920588</td>\n",
       "      <td>-0.087244</td>\n",
       "      <td>-0.752989</td>\n",
       "      <td>-0.219132</td>\n",
       "      <td>-0.024707</td>\n",
       "      <td>0.234906</td>\n",
       "      <td>-0.723801</td>\n",
       "      <td>-0.435558</td>\n",
       "      <td>...</td>\n",
       "      <td>-0.007188</td>\n",
       "      <td>0.0</td>\n",
       "      <td>-0.070627</td>\n",
       "      <td>-0.00847</td>\n",
       "      <td>-0.000342</td>\n",
       "      <td>0.51544</td>\n",
       "      <td>-0.012494</td>\n",
       "      <td>0.294939</td>\n",
       "      <td>-0.38986</td>\n",
       "      <td>-0.000405</td>\n",
       "    </tr>\n",
       "    <tr>\n",
       "      <th>0</th>\n",
       "      <td>1000.0</td>\n",
       "      <td>0.922417</td>\n",
       "      <td>0.920507</td>\n",
       "      <td>-0.090101</td>\n",
       "      <td>-0.782214</td>\n",
       "      <td>-0.223709</td>\n",
       "      <td>-0.025161</td>\n",
       "      <td>0.240338</td>\n",
       "      <td>-0.739481</td>\n",
       "      <td>-0.453541</td>\n",
       "      <td>...</td>\n",
       "      <td>-0.00728</td>\n",
       "      <td>0.0</td>\n",
       "      <td>-0.073672</td>\n",
       "      <td>-0.008702</td>\n",
       "      <td>-0.000352</td>\n",
       "      <td>0.526168</td>\n",
       "      <td>-0.012883</td>\n",
       "      <td>0.301098</td>\n",
       "      <td>-0.399985</td>\n",
       "      <td>-0.000407</td>\n",
       "    </tr>\n",
       "  </tbody>\n",
       "</table>\n",
       "<p>6 rows × 33 columns</p>\n",
       "</div>"
      ],
      "text/plain": [
       "        C train_acc   val_acc coef_speed coef_precip_none coef_precip_rain  \\\n",
       "0    0.01  0.921771  0.921314  -0.003668        -0.002756         -0.00487   \n",
       "0     0.1  0.922094  0.921152  -0.038544        -0.184467        -0.098303   \n",
       "0     1.0  0.922444  0.920668  -0.084911        -0.713634        -0.211996   \n",
       "0    10.0  0.922444  0.920668  -0.085682        -0.754389        -0.215158   \n",
       "0   100.0  0.922417  0.920588  -0.087244        -0.752989        -0.219132   \n",
       "0  1000.0  0.922417  0.920507  -0.090101        -0.782214        -0.223709   \n",
       "\n",
       "  coef_precip_snow coef_precip_fog coef_ac_mass coef_num_engs  ...  \\\n",
       "0        -0.000419        0.007964    -0.094135     -0.024113  ...   \n",
       "0        -0.011496          0.0955    -0.501513     -0.205578  ...   \n",
       "0        -0.024099        0.220146    -0.704214     -0.433759  ...   \n",
       "0        -0.024005        0.237229    -0.700943     -0.422105  ...   \n",
       "0        -0.024707        0.234906    -0.723801     -0.435558  ...   \n",
       "0        -0.025161        0.240338    -0.739481     -0.453541  ...   \n",
       "\n",
       "  coef_phase_of_flight_Descent coef_phase_of_flight_En Route  \\\n",
       "0                    -0.000541                           0.0   \n",
       "0                    -0.005116                           0.0   \n",
       "0                     -0.00705                           0.0   \n",
       "0                     -0.00704                           0.0   \n",
       "0                    -0.007188                           0.0   \n",
       "0                     -0.00728                           0.0   \n",
       "\n",
       "  coef_phase_of_flight_Landing Roll coef_phase_of_flight_Local  \\\n",
       "0                          0.002344                  -0.000114   \n",
       "0                         -0.001718                  -0.002731   \n",
       "0                         -0.066364                  -0.007977   \n",
       "0                         -0.070245                  -0.008488   \n",
       "0                         -0.070627                   -0.00847   \n",
       "0                         -0.073672                  -0.008702   \n",
       "\n",
       "  coef_phase_of_flight_Parked coef_phase_of_flight_Take-off Run  \\\n",
       "0                   -0.000007                          0.020158   \n",
       "0                   -0.000099                          0.222724   \n",
       "0                   -0.000313                           0.48304   \n",
       "0                   -0.000346                          0.519279   \n",
       "0                   -0.000342                           0.51544   \n",
       "0                   -0.000352                          0.526168   \n",
       "\n",
       "  coef_phase_of_flight_Taxi coef_num_struck_11-100 coef_num_struck_2-10  \\\n",
       "0                 -0.000135               0.009233            -0.013472   \n",
       "0                 -0.003829               0.123253            -0.173958   \n",
       "0                 -0.011821               0.278564             -0.37256   \n",
       "0                 -0.012555               0.294695            -0.388523   \n",
       "0                 -0.012494               0.294939             -0.38986   \n",
       "0                 -0.012883               0.301098            -0.399985   \n",
       "\n",
       "  coef_num_struck_More than 100  \n",
       "0                     -0.000022  \n",
       "0                     -0.000265  \n",
       "0                     -0.000394  \n",
       "0                     -0.000387  \n",
       "0                     -0.000405  \n",
       "0                     -0.000407  \n",
       "\n",
       "[6 rows x 33 columns]"
      ]
     },
     "execution_count": 23,
     "metadata": {},
     "output_type": "execute_result"
    }
   ],
   "source": [
    "# get model results\n",
    "results_df = m.get_multi_logit_scores(X_train_scaled, X_validate_scaled, y_train, y_validate)\n",
    "results_df"
   ]
  },
  {
   "cell_type": "code",
   "execution_count": 24,
   "id": "0253d4ed-9907-441a-9f56-826b916f87f1",
   "metadata": {},
   "outputs": [
    {
     "data": {
      "image/png": "[encoded data removed]",
      "text/plain": [
       "<Figure size 640x480 with 1 Axes>"
      ]
     },
     "metadata": {},
     "output_type": "display_data"
    }
   ],
   "source": [
    "# visualize model results\n",
    "m.plot_logit_results(results_df)"
   ]
  },
  {
   "cell_type": "markdown",
   "id": "d3fa8e44-a95e-40bf-a33e-1121643eeb5c",
   "metadata": {},
   "source": [
    "* Best Logistic Regression model had hyperparameter C = .01 \n",
    "* Accuracy on train/validate = .921771 / .921314\n",
    "* This does not beat baseline of .921395"
   ]
  },
  {
   "cell_type": "markdown",
   "id": "23223c6d-3e73-4023-860a-f9096996a35d",
   "metadata": {},
   "source": [
    "## Model 2: Decision Tree"
   ]
  },
  {
   "cell_type": "code",
   "execution_count": 25,
   "id": "6982afc1-f59d-4542-8f9f-9e5f933c6270",
   "metadata": {},
   "outputs": [
    {
     "data": {
      "text/html": [
       "<div>\n",
       "<style scoped>\n",
       "    .dataframe tbody tr th:only-of-type {\n",
       "        vertical-align: middle;\n",
       "    }\n",
       "\n",
       "    .dataframe tbody tr th {\n",
       "        vertical-align: top;\n",
       "    }\n",
       "\n",
       "    .dataframe thead th {\n",
       "        text-align: right;\n",
       "    }\n",
       "</style>\n",
       "<table border=\"1\" class=\"dataframe\">\n",
       "  <thead>\n",
       "    <tr style=\"text-align: right;\">\n",
       "      <th></th>\n",
       "      <th>max_depth</th>\n",
       "      <th>train_acc</th>\n",
       "      <th>val_acc</th>\n",
       "      <th>difference</th>\n",
       "    </tr>\n",
       "  </thead>\n",
       "  <tbody>\n",
       "    <tr>\n",
       "      <th>1</th>\n",
       "      <td>1</td>\n",
       "      <td>0.921395</td>\n",
       "      <td>0.921395</td>\n",
       "      <td>0.000000</td>\n",
       "    </tr>\n",
       "    <tr>\n",
       "      <th>2</th>\n",
       "      <td>2</td>\n",
       "      <td>0.921395</td>\n",
       "      <td>0.921395</td>\n",
       "      <td>0.000000</td>\n",
       "    </tr>\n",
       "    <tr>\n",
       "      <th>3</th>\n",
       "      <td>3</td>\n",
       "      <td>0.921395</td>\n",
       "      <td>0.921395</td>\n",
       "      <td>0.000000</td>\n",
       "    </tr>\n",
       "    <tr>\n",
       "      <th>4</th>\n",
       "      <td>4</td>\n",
       "      <td>0.921798</td>\n",
       "      <td>0.921556</td>\n",
       "      <td>0.000242</td>\n",
       "    </tr>\n",
       "    <tr>\n",
       "      <th>5</th>\n",
       "      <td>5</td>\n",
       "      <td>0.921825</td>\n",
       "      <td>0.921072</td>\n",
       "      <td>0.000753</td>\n",
       "    </tr>\n",
       "    <tr>\n",
       "      <th>6</th>\n",
       "      <td>6</td>\n",
       "      <td>0.923089</td>\n",
       "      <td>0.920991</td>\n",
       "      <td>0.002098</td>\n",
       "    </tr>\n",
       "    <tr>\n",
       "      <th>7</th>\n",
       "      <td>7</td>\n",
       "      <td>0.924273</td>\n",
       "      <td>0.919458</td>\n",
       "      <td>0.004815</td>\n",
       "    </tr>\n",
       "    <tr>\n",
       "      <th>8</th>\n",
       "      <td>8</td>\n",
       "      <td>0.925726</td>\n",
       "      <td>0.920426</td>\n",
       "      <td>0.005300</td>\n",
       "    </tr>\n",
       "    <tr>\n",
       "      <th>9</th>\n",
       "      <td>9</td>\n",
       "      <td>0.927958</td>\n",
       "      <td>0.917037</td>\n",
       "      <td>0.010922</td>\n",
       "    </tr>\n",
       "    <tr>\n",
       "      <th>10</th>\n",
       "      <td>10</td>\n",
       "      <td>0.930918</td>\n",
       "      <td>0.915907</td>\n",
       "      <td>0.015011</td>\n",
       "    </tr>\n",
       "  </tbody>\n",
       "</table>\n",
       "</div>"
      ],
      "text/plain": [
       "    max_depth  train_acc   val_acc  difference\n",
       "1           1   0.921395  0.921395    0.000000\n",
       "2           2   0.921395  0.921395    0.000000\n",
       "3           3   0.921395  0.921395    0.000000\n",
       "4           4   0.921798  0.921556    0.000242\n",
       "5           5   0.921825  0.921072    0.000753\n",
       "6           6   0.923089  0.920991    0.002098\n",
       "7           7   0.924273  0.919458    0.004815\n",
       "8           8   0.925726  0.920426    0.005300\n",
       "9           9   0.927958  0.917037    0.010922\n",
       "10         10   0.930918  0.915907    0.015011"
      ]
     },
     "execution_count": 25,
     "metadata": {},
     "output_type": "execute_result"
    }
   ],
   "source": [
    "# get model results\n",
    "results_df = m.get_dtree_scores(X_train_scaled, X_validate_scaled, y_train, y_validate, crit='gini', max_d=10)\n",
    "results_df"
   ]
  },
  {
   "cell_type": "markdown",
   "id": "3375facb-94b0-4c75-8fff-19d51d1cdaea",
   "metadata": {},
   "source": [
    "* Best Decision Tree model had hyperparameter max_depth = 4 \n",
    "* Accuracy on train/validate = .921798 / .921556\n",
    "* This beat the baseline of .921395, but barely"
   ]
  },
  {
   "cell_type": "markdown",
   "id": "132b48fe-5ccb-4843-acf1-0128a962c03f",
   "metadata": {},
   "source": [
    "## Model 3: KNN"
   ]
  },
  {
   "cell_type": "code",
   "execution_count": 26,
   "id": "54393a40-ef22-4238-a8ed-2e9955e4716e",
   "metadata": {},
   "outputs": [
    {
     "data": {
      "text/html": [
       "<div>\n",
       "<style scoped>\n",
       "    .dataframe tbody tr th:only-of-type {\n",
       "        vertical-align: middle;\n",
       "    }\n",
       "\n",
       "    .dataframe tbody tr th {\n",
       "        vertical-align: top;\n",
       "    }\n",
       "\n",
       "    .dataframe thead th {\n",
       "        text-align: right;\n",
       "    }\n",
       "</style>\n",
       "<table border=\"1\" class=\"dataframe\">\n",
       "  <thead>\n",
       "    <tr style=\"text-align: right;\">\n",
       "      <th></th>\n",
       "      <th>train_acc</th>\n",
       "      <th>val_acc</th>\n",
       "    </tr>\n",
       "  </thead>\n",
       "  <tbody>\n",
       "    <tr>\n",
       "      <th>1</th>\n",
       "      <td>0.929707</td>\n",
       "      <td>0.875878</td>\n",
       "    </tr>\n",
       "    <tr>\n",
       "      <th>2</th>\n",
       "      <td>0.900627</td>\n",
       "      <td>0.866032</td>\n",
       "    </tr>\n",
       "    <tr>\n",
       "      <th>3</th>\n",
       "      <td>0.929922</td>\n",
       "      <td>0.910096</td>\n",
       "    </tr>\n",
       "    <tr>\n",
       "      <th>4</th>\n",
       "      <td>0.927743</td>\n",
       "      <td>0.908321</td>\n",
       "    </tr>\n",
       "    <tr>\n",
       "      <th>5</th>\n",
       "      <td>0.928362</td>\n",
       "      <td>0.916149</td>\n",
       "    </tr>\n",
       "  </tbody>\n",
       "</table>\n",
       "</div>"
      ],
      "text/plain": [
       "   train_acc   val_acc\n",
       "1   0.929707  0.875878\n",
       "2   0.900627  0.866032\n",
       "3   0.929922  0.910096\n",
       "4   0.927743  0.908321\n",
       "5   0.928362  0.916149"
      ]
     },
     "execution_count": 26,
     "metadata": {},
     "output_type": "execute_result"
    }
   ],
   "source": [
    "# get model results\n",
    "results_df = m.get_knn_metrics(X_train_scaled, X_validate_scaled, y_train, y_validate, weights_='uniform', max_n=5)\n",
    "results_df"
   ]
  },
  {
   "cell_type": "markdown",
   "id": "a7f23c07-e8c1-4110-b282-c5249351be47",
   "metadata": {},
   "source": [
    "* KNN did not beat baseline"
   ]
  },
  {
   "cell_type": "markdown",
   "id": "9c8cd0b0-b255-45ce-b50c-5fb50086ad05",
   "metadata": {},
   "source": [
    "## Model 4: Random Forest"
   ]
  },
  {
   "cell_type": "code",
   "execution_count": 27,
   "id": "aeb23ee3-9ac8-416e-b41b-042522c350e4",
   "metadata": {},
   "outputs": [
    {
     "data": {
      "text/html": [
       "<div>\n",
       "<style scoped>\n",
       "    .dataframe tbody tr th:only-of-type {\n",
       "        vertical-align: middle;\n",
       "    }\n",
       "\n",
       "    .dataframe tbody tr th {\n",
       "        vertical-align: top;\n",
       "    }\n",
       "\n",
       "    .dataframe thead th {\n",
       "        text-align: right;\n",
       "    }\n",
       "</style>\n",
       "<table border=\"1\" class=\"dataframe\">\n",
       "  <thead>\n",
       "    <tr style=\"text-align: right;\">\n",
       "      <th></th>\n",
       "      <th>min_samples_leaf</th>\n",
       "      <th>trn_acc_depth_1</th>\n",
       "      <th>val_acc_depth_1</th>\n",
       "      <th>diff_1</th>\n",
       "      <th>trn_acc_depth_2</th>\n",
       "      <th>val_acc_depth_2</th>\n",
       "      <th>diff_2</th>\n",
       "      <th>trn_acc_depth_3</th>\n",
       "      <th>val_acc_depth_3</th>\n",
       "      <th>diff_3</th>\n",
       "      <th>...</th>\n",
       "      <th>diff_7</th>\n",
       "      <th>trn_acc_depth_8</th>\n",
       "      <th>val_acc_depth_8</th>\n",
       "      <th>diff_8</th>\n",
       "      <th>trn_acc_depth_9</th>\n",
       "      <th>val_acc_depth_9</th>\n",
       "      <th>diff_9</th>\n",
       "      <th>trn_acc_depth_10</th>\n",
       "      <th>val_acc_depth_10</th>\n",
       "      <th>diff_10</th>\n",
       "    </tr>\n",
       "  </thead>\n",
       "  <tbody>\n",
       "    <tr>\n",
       "      <th>0</th>\n",
       "      <td>1</td>\n",
       "      <td>0.921395</td>\n",
       "      <td>0.921395</td>\n",
       "      <td>0.0</td>\n",
       "      <td>0.921395</td>\n",
       "      <td>0.921395</td>\n",
       "      <td>0.0</td>\n",
       "      <td>0.921395</td>\n",
       "      <td>0.921395</td>\n",
       "      <td>0.0</td>\n",
       "      <td>...</td>\n",
       "      <td>0.000054</td>\n",
       "      <td>0.921852</td>\n",
       "      <td>0.921556</td>\n",
       "      <td>0.000296</td>\n",
       "      <td>0.923385</td>\n",
       "      <td>0.921556</td>\n",
       "      <td>0.001829</td>\n",
       "      <td>0.925591</td>\n",
       "      <td>0.921152</td>\n",
       "      <td>0.004439</td>\n",
       "    </tr>\n",
       "    <tr>\n",
       "      <th>1</th>\n",
       "      <td>2</td>\n",
       "      <td>0.921395</td>\n",
       "      <td>0.921395</td>\n",
       "      <td>0.0</td>\n",
       "      <td>0.921395</td>\n",
       "      <td>0.921395</td>\n",
       "      <td>0.0</td>\n",
       "      <td>0.921395</td>\n",
       "      <td>0.921395</td>\n",
       "      <td>0.0</td>\n",
       "      <td>...</td>\n",
       "      <td>0.000027</td>\n",
       "      <td>0.921664</td>\n",
       "      <td>0.921556</td>\n",
       "      <td>0.000108</td>\n",
       "      <td>0.922255</td>\n",
       "      <td>0.921395</td>\n",
       "      <td>0.000861</td>\n",
       "      <td>0.923520</td>\n",
       "      <td>0.921233</td>\n",
       "      <td>0.002287</td>\n",
       "    </tr>\n",
       "    <tr>\n",
       "      <th>2</th>\n",
       "      <td>3</td>\n",
       "      <td>0.921395</td>\n",
       "      <td>0.921395</td>\n",
       "      <td>0.0</td>\n",
       "      <td>0.921395</td>\n",
       "      <td>0.921395</td>\n",
       "      <td>0.0</td>\n",
       "      <td>0.921395</td>\n",
       "      <td>0.921395</td>\n",
       "      <td>0.0</td>\n",
       "      <td>...</td>\n",
       "      <td>0.000000</td>\n",
       "      <td>0.921475</td>\n",
       "      <td>0.921475</td>\n",
       "      <td>0.000000</td>\n",
       "      <td>0.922094</td>\n",
       "      <td>0.921475</td>\n",
       "      <td>0.000619</td>\n",
       "      <td>0.922767</td>\n",
       "      <td>0.921395</td>\n",
       "      <td>0.001372</td>\n",
       "    </tr>\n",
       "    <tr>\n",
       "      <th>3</th>\n",
       "      <td>4</td>\n",
       "      <td>0.921395</td>\n",
       "      <td>0.921395</td>\n",
       "      <td>0.0</td>\n",
       "      <td>0.921395</td>\n",
       "      <td>0.921395</td>\n",
       "      <td>0.0</td>\n",
       "      <td>0.921395</td>\n",
       "      <td>0.921395</td>\n",
       "      <td>0.0</td>\n",
       "      <td>...</td>\n",
       "      <td>0.000000</td>\n",
       "      <td>0.921421</td>\n",
       "      <td>0.921395</td>\n",
       "      <td>0.000027</td>\n",
       "      <td>0.922040</td>\n",
       "      <td>0.921637</td>\n",
       "      <td>0.000404</td>\n",
       "      <td>0.922040</td>\n",
       "      <td>0.921637</td>\n",
       "      <td>0.000404</td>\n",
       "    </tr>\n",
       "    <tr>\n",
       "      <th>4</th>\n",
       "      <td>5</td>\n",
       "      <td>0.921395</td>\n",
       "      <td>0.921395</td>\n",
       "      <td>0.0</td>\n",
       "      <td>0.921395</td>\n",
       "      <td>0.921395</td>\n",
       "      <td>0.0</td>\n",
       "      <td>0.921395</td>\n",
       "      <td>0.921395</td>\n",
       "      <td>0.0</td>\n",
       "      <td>...</td>\n",
       "      <td>0.000000</td>\n",
       "      <td>0.921395</td>\n",
       "      <td>0.921475</td>\n",
       "      <td>-0.000081</td>\n",
       "      <td>0.921717</td>\n",
       "      <td>0.921556</td>\n",
       "      <td>0.000161</td>\n",
       "      <td>0.921959</td>\n",
       "      <td>0.921637</td>\n",
       "      <td>0.000323</td>\n",
       "    </tr>\n",
       "    <tr>\n",
       "      <th>5</th>\n",
       "      <td>6</td>\n",
       "      <td>0.921395</td>\n",
       "      <td>0.921395</td>\n",
       "      <td>0.0</td>\n",
       "      <td>0.921395</td>\n",
       "      <td>0.921395</td>\n",
       "      <td>0.0</td>\n",
       "      <td>0.921395</td>\n",
       "      <td>0.921395</td>\n",
       "      <td>0.0</td>\n",
       "      <td>...</td>\n",
       "      <td>0.000000</td>\n",
       "      <td>0.921448</td>\n",
       "      <td>0.921475</td>\n",
       "      <td>-0.000027</td>\n",
       "      <td>0.921664</td>\n",
       "      <td>0.921556</td>\n",
       "      <td>0.000108</td>\n",
       "      <td>0.921798</td>\n",
       "      <td>0.921637</td>\n",
       "      <td>0.000161</td>\n",
       "    </tr>\n",
       "    <tr>\n",
       "      <th>6</th>\n",
       "      <td>7</td>\n",
       "      <td>0.921395</td>\n",
       "      <td>0.921395</td>\n",
       "      <td>0.0</td>\n",
       "      <td>0.921395</td>\n",
       "      <td>0.921395</td>\n",
       "      <td>0.0</td>\n",
       "      <td>0.921395</td>\n",
       "      <td>0.921395</td>\n",
       "      <td>0.0</td>\n",
       "      <td>...</td>\n",
       "      <td>0.000000</td>\n",
       "      <td>0.921448</td>\n",
       "      <td>0.921475</td>\n",
       "      <td>-0.000027</td>\n",
       "      <td>0.921610</td>\n",
       "      <td>0.921395</td>\n",
       "      <td>0.000215</td>\n",
       "      <td>0.921771</td>\n",
       "      <td>0.921637</td>\n",
       "      <td>0.000135</td>\n",
       "    </tr>\n",
       "    <tr>\n",
       "      <th>7</th>\n",
       "      <td>8</td>\n",
       "      <td>0.921395</td>\n",
       "      <td>0.921395</td>\n",
       "      <td>0.0</td>\n",
       "      <td>0.921395</td>\n",
       "      <td>0.921395</td>\n",
       "      <td>0.0</td>\n",
       "      <td>0.921395</td>\n",
       "      <td>0.921395</td>\n",
       "      <td>0.0</td>\n",
       "      <td>...</td>\n",
       "      <td>0.000000</td>\n",
       "      <td>0.921448</td>\n",
       "      <td>0.921395</td>\n",
       "      <td>0.000054</td>\n",
       "      <td>0.921556</td>\n",
       "      <td>0.921395</td>\n",
       "      <td>0.000161</td>\n",
       "      <td>0.921690</td>\n",
       "      <td>0.921556</td>\n",
       "      <td>0.000135</td>\n",
       "    </tr>\n",
       "    <tr>\n",
       "      <th>8</th>\n",
       "      <td>9</td>\n",
       "      <td>0.921395</td>\n",
       "      <td>0.921395</td>\n",
       "      <td>0.0</td>\n",
       "      <td>0.921395</td>\n",
       "      <td>0.921395</td>\n",
       "      <td>0.0</td>\n",
       "      <td>0.921395</td>\n",
       "      <td>0.921395</td>\n",
       "      <td>0.0</td>\n",
       "      <td>...</td>\n",
       "      <td>0.000000</td>\n",
       "      <td>0.921395</td>\n",
       "      <td>0.921395</td>\n",
       "      <td>0.000000</td>\n",
       "      <td>0.921395</td>\n",
       "      <td>0.921395</td>\n",
       "      <td>0.000000</td>\n",
       "      <td>0.921664</td>\n",
       "      <td>0.921556</td>\n",
       "      <td>0.000108</td>\n",
       "    </tr>\n",
       "    <tr>\n",
       "      <th>9</th>\n",
       "      <td>10</td>\n",
       "      <td>0.921395</td>\n",
       "      <td>0.921395</td>\n",
       "      <td>0.0</td>\n",
       "      <td>0.921395</td>\n",
       "      <td>0.921395</td>\n",
       "      <td>0.0</td>\n",
       "      <td>0.921395</td>\n",
       "      <td>0.921395</td>\n",
       "      <td>0.0</td>\n",
       "      <td>...</td>\n",
       "      <td>0.000000</td>\n",
       "      <td>0.921395</td>\n",
       "      <td>0.921395</td>\n",
       "      <td>0.000000</td>\n",
       "      <td>0.921529</td>\n",
       "      <td>0.921395</td>\n",
       "      <td>0.000135</td>\n",
       "      <td>0.921502</td>\n",
       "      <td>0.921395</td>\n",
       "      <td>0.000108</td>\n",
       "    </tr>\n",
       "  </tbody>\n",
       "</table>\n",
       "<p>10 rows × 31 columns</p>\n",
       "</div>"
      ],
      "text/plain": [
       "   min_samples_leaf  trn_acc_depth_1  val_acc_depth_1  diff_1  \\\n",
       "0                 1         0.921395         0.921395     0.0   \n",
       "1                 2         0.921395         0.921395     0.0   \n",
       "2                 3         0.921395         0.921395     0.0   \n",
       "3                 4         0.921395         0.921395     0.0   \n",
       "4                 5         0.921395         0.921395     0.0   \n",
       "5                 6         0.921395         0.921395     0.0   \n",
       "6                 7         0.921395         0.921395     0.0   \n",
       "7                 8         0.921395         0.921395     0.0   \n",
       "8                 9         0.921395         0.921395     0.0   \n",
       "9                10         0.921395         0.921395     0.0   \n",
       "\n",
       "   trn_acc_depth_2  val_acc_depth_2  diff_2  trn_acc_depth_3  val_acc_depth_3  \\\n",
       "0         0.921395         0.921395     0.0         0.921395         0.921395   \n",
       "1         0.921395         0.921395     0.0         0.921395         0.921395   \n",
       "2         0.921395         0.921395     0.0         0.921395         0.921395   \n",
       "3         0.921395         0.921395     0.0         0.921395         0.921395   \n",
       "4         0.921395         0.921395     0.0         0.921395         0.921395   \n",
       "5         0.921395         0.921395     0.0         0.921395         0.921395   \n",
       "6         0.921395         0.921395     0.0         0.921395         0.921395   \n",
       "7         0.921395         0.921395     0.0         0.921395         0.921395   \n",
       "8         0.921395         0.921395     0.0         0.921395         0.921395   \n",
       "9         0.921395         0.921395     0.0         0.921395         0.921395   \n",
       "\n",
       "   diff_3  ...    diff_7  trn_acc_depth_8  val_acc_depth_8    diff_8  \\\n",
       "0     0.0  ...  0.000054         0.921852         0.921556  0.000296   \n",
       "1     0.0  ...  0.000027         0.921664         0.921556  0.000108   \n",
       "2     0.0  ...  0.000000         0.921475         0.921475  0.000000   \n",
       "3     0.0  ...  0.000000         0.921421         0.921395  0.000027   \n",
       "4     0.0  ...  0.000000         0.921395         0.921475 -0.000081   \n",
       "5     0.0  ...  0.000000         0.921448         0.921475 -0.000027   \n",
       "6     0.0  ...  0.000000         0.921448         0.921475 -0.000027   \n",
       "7     0.0  ...  0.000000         0.921448         0.921395  0.000054   \n",
       "8     0.0  ...  0.000000         0.921395         0.921395  0.000000   \n",
       "9     0.0  ...  0.000000         0.921395         0.921395  0.000000   \n",
       "\n",
       "   trn_acc_depth_9  val_acc_depth_9    diff_9  trn_acc_depth_10  \\\n",
       "0         0.923385         0.921556  0.001829          0.925591   \n",
       "1         0.922255         0.921395  0.000861          0.923520   \n",
       "2         0.922094         0.921475  0.000619          0.922767   \n",
       "3         0.922040         0.921637  0.000404          0.922040   \n",
       "4         0.921717         0.921556  0.000161          0.921959   \n",
       "5         0.921664         0.921556  0.000108          0.921798   \n",
       "6         0.921610         0.921395  0.000215          0.921771   \n",
       "7         0.921556         0.921395  0.000161          0.921690   \n",
       "8         0.921395         0.921395  0.000000          0.921664   \n",
       "9         0.921529         0.921395  0.000135          0.921502   \n",
       "\n",
       "   val_acc_depth_10   diff_10  \n",
       "0          0.921152  0.004439  \n",
       "1          0.921233  0.002287  \n",
       "2          0.921395  0.001372  \n",
       "3          0.921637  0.000404  \n",
       "4          0.921637  0.000323  \n",
       "5          0.921637  0.000161  \n",
       "6          0.921637  0.000135  \n",
       "7          0.921556  0.000135  \n",
       "8          0.921556  0.000108  \n",
       "9          0.921395  0.000108  \n",
       "\n",
       "[10 rows x 31 columns]"
      ]
     },
     "execution_count": 27,
     "metadata": {},
     "output_type": "execute_result"
    }
   ],
   "source": [
    "# get model results (takes 30-40\" to run)\n",
    "results_df = m.get_rf_scores(X_train_scaled, X_validate_scaled, y_train, y_validate, m_depth_range=10, m_s_leaf_range=10)\n",
    "results_df"
   ]
  },
  {
   "cell_type": "markdown",
   "id": "5c5424dd-05a1-4312-8ed0-0d9c10169891",
   "metadata": {},
   "source": [
    "* Best Random Forest Model had hyperparameter max_depth = 9 and min_samples_leaf = 1\n",
    "* Accuracy on train/validate = .923385 / .921637\n",
    "* This beat the baseline of .921395, but barely."
   ]
  },
  {
   "cell_type": "markdown",
   "id": "38af26d7-2fc2-47c3-8bf2-cc435eca964d",
   "metadata": {},
   "source": [
    "## Comparing Models\n",
    "* No model performed significantly better than the baseline of simply predicting 'N' for damage level\n",
    "* I will move forward with the Random Forest model on test for the sake of rubric completion"
   ]
  },
  {
   "cell_type": "markdown",
   "id": "f757c82b-fe9e-4cff-966a-5ca738701bf6",
   "metadata": {},
   "source": [
    "## Best Model (Random Forest) on Test"
   ]
  },
  {
   "cell_type": "code",
   "execution_count": 28,
   "id": "0f9c3152-81ce-436d-9f6f-2d15f2504326",
   "metadata": {},
   "outputs": [
    {
     "name": "stdout",
     "output_type": "stream",
     "text": [
      "Accuracy on test = 0.9214752643047374\n"
     ]
    }
   ],
   "source": [
    "m.get_best_rf(X_train_scaled, X_validate_scaled, X_test_scaled, y_train, y_validate, y_test)"
   ]
  },
  {
   "cell_type": "markdown",
   "id": "a0b5e7d9-7b20-47a0-8d4e-5fd718457ba9",
   "metadata": {},
   "source": [
    "## Modeling Summary\n",
    "* Best model performed nearly identical to baseline\n",
    "* Baseline accuracy: .921395\n",
    "* Best Model accuracy on test: .921475"
   ]
  },
  {
   "cell_type": "markdown",
   "id": "90a4de71-1dfa-4fb4-9db6-16ad478ecb21",
   "metadata": {},
   "source": [
    "# Conclusions"
   ]
  },
  {
   "cell_type": "markdown",
   "id": "525f5d7c-6d57-46fc-a73b-214d747fb463",
   "metadata": {},
   "source": [
    "## Exploration\n",
    "* The vast majority of bird strikes cause no damage (>90%)\n",
    "* Larger wildlife are associated with greater damage levels\n",
    "* Smaller aircraft generally incurred greater damage than larger aircraft\n",
    "* Slower speeds are associated with greater damage -- requires more investigation. My initial hypothesis is that most bird strikes occur at lower altitudes when generally, aircraft are flying at lower airspeeds. It could also be that bird strikes are more likely to cause damage to smaller aircraft (such as a Cessna-172) which are flying at lower airspeeds generally than larger aircraft like Boeing 737s.\n",
    "* Helicopters are more likely to incur damage than airplanes"
   ]
  },
  {
   "cell_type": "markdown",
   "id": "17f540ad-bda0-4fc3-b86d-dcc1a54e0be6",
   "metadata": {},
   "source": [
    "## Modeling\n",
    "* Most models were able to match baseline, but none were appreciably better"
   ]
  },
  {
   "cell_type": "markdown",
   "id": "2908b674-c768-40c2-8f99-0bc4cd59e719",
   "metadata": {},
   "source": [
    "## Recommendations\n",
    "* For pilots, smaller aircraft are more at risk for bird strike hazards. Most private pilots are flying small aircraft, and they should pay greater attention to bird watch conditions. When checking the weather and the NOTAMS, check the bird condition as well. If your local airport doesn't broadcast this, check www.usahas.com\n",
    "* For airport managers, pair data from this database with bird mitigation efforts to analyze effectiveness. The FAA in combination with the USDA have excellent recommendations for hazard mitigation, but each airport has specific hazards which can change over time. Vigilance is required."
   ]
  },
  {
   "cell_type": "markdown",
   "id": "f26aeb83-c95f-44d2-8d0d-d5a45a7851ef",
   "metadata": {},
   "source": [
    "## Next steps\n",
    "* Run modeling on a subset of the dataset that includes only damage levels of M, S, or D to see if better performance can be attained\n",
    "* Go back and handle nulls differently (change nulls to some version of 'Unknown') to get a better value for number of strikes over time; then:\n",
    "    * Conduct a time series analysis to see what times of year are more likely to incur damaging bird strikes\n",
    "* Gather more data, such as a measure of the number of aircraft operations (e.g. daily takeoffs and landings, daily number of flights); then:\n",
    "    * feature engineer a column such as rate of strikes per number of operations/flights\n",
    "* Consider developing models for specific airports"
   ]
  }
 ],
 "metadata": {
  "kernelspec": {
   "display_name": "Python 3 (ipykernel)",
   "language": "python",
   "name": "python3"
  },
  "language_info": {
   "codemirror_mode": {
    "name": "ipython",
    "version": 3
   },
   "file_extension": ".py",
   "mimetype": "text/x-python",
   "name": "python",
   "nbconvert_exporter": "python",
   "pygments_lexer": "ipython3",
   "version": "3.9.13"
  }
 },
 "nbformat": 4,
 "nbformat_minor": 5
}
